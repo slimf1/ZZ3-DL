{
  "nbformat": 4,
  "nbformat_minor": 0,
  "metadata": {
    "accelerator": "GPU",
    "colab": {
      "name": "05 - RNN sequence classification-Keras-etud.ipynb",
      "provenance": [],
      "collapsed_sections": [],
      "include_colab_link": true
    },
    "kernelspec": {
      "display_name": "Python 3.8.5 64-bit",
      "language": "python",
      "name": "python_defaultSpec_1596639813537"
    },
    "language_info": {
      "codemirror_mode": {
        "name": "ipython",
        "version": 3
      },
      "file_extension": ".py",
      "mimetype": "text/x-python",
      "name": "python",
      "nbconvert_exporter": "python",
      "pygments_lexer": "ipython3",
      "version": "3.8.5-final"
    }
  },
  "cells": [
    {
      "cell_type": "markdown",
      "metadata": {
        "id": "view-in-github",
        "colab_type": "text"
      },
      "source": [
        "<a href=\"https://colab.research.google.com/github/slimf1/ZZ3-DL/blob/main/05_RNN_sequence_classification_Keras_etud.ipynb\" target=\"_parent\"><img src=\"https://colab.research.google.com/assets/colab-badge.svg\" alt=\"Open In Colab\"/></a>"
      ]
    },
    {
      "cell_type": "markdown",
      "metadata": {
        "id": "rp01GIXh4Gzv"
      },
      "source": [
        "# Classification de séquences par réseaux récurrents\n",
        "Objectif : classification de données binaires (avis positifs/négatifs sur des films)"
      ]
    },
    {
      "cell_type": "markdown",
      "metadata": {
        "id": "wmau0FBx4Gzz"
      },
      "source": [
        "## Imports"
      ]
    },
    {
      "cell_type": "code",
      "metadata": {
        "id": "5t8Bb6hc4Gz0"
      },
      "source": [
        "import matplotlib as mpl\n",
        "import matplotlib.pyplot as plt\n",
        "import numpy as np\n",
        "import pandas as pd\n",
        "import sklearn\n",
        "import tensorflow as tf\n",
        "from tensorflow import keras \n",
        "from tensorflow.keras.datasets import imdb\n",
        "from tensorflow.keras.layers import Embedding, LSTM, Dense\n"
      ],
      "execution_count": null,
      "outputs": []
    },
    {
      "cell_type": "markdown",
      "metadata": {
        "id": "5qbo7Wor4Gz2"
      },
      "source": [
        "## Chargement des données\n",
        "Base de données IMDB (avis positif/négatif sur les films). On ne s'intéresse qu'aux 10000 mots les plus courants. On charge également la correspondance mot-> identifiant (id)"
      ]
    },
    {
      "cell_type": "code",
      "metadata": {
        "id": "LnzR0JkR4Gz2"
      },
      "source": [
        "num_words = 10000\n",
        "(X_train, y_train), (X_test, y_test) = imdb.load_data(num_words=num_words)\n",
        "word_index = imdb.get_word_index()"
      ],
      "execution_count": null,
      "outputs": []
    },
    {
      "cell_type": "markdown",
      "metadata": {
        "id": "4gvcDz6G4Gz3"
      },
      "source": [
        "On créé une correspondance inverse id->mot en ajoutant des mots spéciaux"
      ]
    },
    {
      "cell_type": "code",
      "metadata": {
        "id": "xyPAukzq4Gz3"
      },
      "source": [
        "index = {word_id + 3: word for word, word_id in word_index.items()}\n",
        "index[0] = \"<pad>\" # padding\n",
        "index[1] = \"<sos>\" # début de séquence\n",
        "index[2] = \"<oov>\" # hors vocabulaire\n",
        "index[3] = \"<unk>\" # inconnu"
      ],
      "execution_count": null,
      "outputs": []
    },
    {
      "cell_type": "markdown",
      "metadata": {
        "id": "oVxLegvb4Gz4"
      },
      "source": [
        "Fonction de lecture des avis"
      ]
    },
    {
      "cell_type": "code",
      "metadata": {
        "colab": {
          "base_uri": "https://localhost:8080/"
        },
        "id": "pXb7vXpi4Gz4",
        "outputId": "5b815c08-88fc-4e26-8410-95c5d4f31405"
      },
      "source": [
        "def decode_review(word_ids):\n",
        "    return \" \".join([index.get(word_id, \"<err>\") for word_id in word_ids])\n",
        "\n",
        "print(\"Un exemple d'avis : \",decode_review(X_train[10]))\n",
        "print(\"Avis positif (1)/négatif (0) : \",y_train[1])"
      ],
      "execution_count": null,
      "outputs": [
        {
          "name": "stdout",
          "output_type": "stream",
          "text": [
            "Un exemple d'avis :  <sos> french horror cinema has seen something of a revival over the last couple of years with great films such as inside and <oov> romance <oov> on to the scene <oov> <oov> the revival just slightly but stands head and shoulders over most modern horror titles and is surely one of the best french horror films ever made <oov> was obviously shot on a low budget but this is made up for in far more ways than one by the originality of the film and this in turn is <oov> by the excellent writing and acting that ensure the film is a winner the plot focuses on two main ideas prison and black magic the central character is a man named <oov> sent to prison for fraud he is put in a cell with three others the quietly insane <oov> body building <oov> marcus and his retarded boyfriend daisy after a short while in the cell together they stumble upon a hiding place in the wall that contains an old <oov> after <oov> part of it they soon realise its magical powers and realise they may be able to use it to break through the prison walls br br black magic is a very interesting topic and i'm actually quite surprised that there aren't more films based on it as there's so much scope for things to do with it it's fair to say that <oov> makes the best of it's <oov> as despite it's <oov> the film never actually feels restrained and manages to flow well throughout director eric <oov> provides a great atmosphere for the film the fact that most of it takes place inside the central prison cell <oov> that the film feels very claustrophobic and this immensely benefits the central idea of the prisoners wanting to use magic to break out of the cell it's very easy to get behind them it's often said that the unknown is the thing that really <oov> people and this film proves that as the director <oov> that we can never really be sure of exactly what is round the corner and this helps to ensure that <oov> actually does manage to be quite frightening the film is memorable for a lot of reasons outside the central plot the characters are all very interesting in their own way and the fact that the book itself almost takes on its own character is very well done anyone worried that the film won't deliver by the end won't be disappointed either as the ending both makes sense and manages to be quite horrifying overall <oov> is a truly great horror film and one of the best of the decade highly recommended viewing\n",
            "Avis positif (1)/négatif (0) :  0\n"
          ]
        }
      ]
    },
    {
      "cell_type": "markdown",
      "metadata": {
        "id": "kwISuhou4Gz5"
      },
      "source": [
        "## Modèle de référence\n",
        "Pour évaluer le modèle RNN, on construit un modèle de référence sur lequel comparer les résultats. Le code vous est fourni"
      ]
    },
    {
      "cell_type": "code",
      "metadata": {
        "id": "9cOwKsOR4Gz6"
      },
      "source": [
        "X_train_text = [decode_review(words_ids) for words_ids in X_train]\n",
        "X_test_text = [decode_review(words_ids) for words_ids in X_test]"
      ],
      "execution_count": null,
      "outputs": []
    },
    {
      "cell_type": "code",
      "metadata": {
        "id": "FvX5dWxI4Gz6"
      },
      "source": [
        "from sklearn.feature_extraction.text import CountVectorizer, TfidfTransformer\n",
        "from sklearn.pipeline import Pipeline\n",
        "from sklearn.linear_model import SGDClassifier"
      ],
      "execution_count": null,
      "outputs": []
    },
    {
      "cell_type": "code",
      "metadata": {
        "id": "QX8_DLi_4Gz6"
      },
      "source": [
        "processing = Pipeline([('vect', CountVectorizer()),('tfidf', TfidfTransformer()),('clf', SGDClassifier(max_iter=50)),])"
      ],
      "execution_count": null,
      "outputs": []
    },
    {
      "cell_type": "code",
      "metadata": {
        "colab": {
          "base_uri": "https://localhost:8080/"
        },
        "id": "tgfL_CRh4Gz7",
        "outputId": "010b78b0-0bab-408d-9c15-bc8f9a2e1315"
      },
      "source": [
        "processing.fit(X_train_text, y_train)"
      ],
      "execution_count": null,
      "outputs": [
        {
          "data": {
            "text/plain": [
              "Pipeline(memory=None,\n",
              "         steps=[('vect',\n",
              "                 CountVectorizer(analyzer='word', binary=False,\n",
              "                                 decode_error='strict',\n",
              "                                 dtype=<class 'numpy.int64'>, encoding='utf-8',\n",
              "                                 input='content', lowercase=True, max_df=1.0,\n",
              "                                 max_features=None, min_df=1,\n",
              "                                 ngram_range=(1, 1), preprocessor=None,\n",
              "                                 stop_words=None, strip_accents=None,\n",
              "                                 token_pattern='(?u)\\\\b\\\\w\\\\w+\\\\b',\n",
              "                                 tokenizer=None, vocabulary=Non...\n",
              "                ('clf',\n",
              "                 SGDClassifier(alpha=0.0001, average=False, class_weight=None,\n",
              "                               early_stopping=False, epsilon=0.1, eta0=0.0,\n",
              "                               fit_intercept=True, l1_ratio=0.15,\n",
              "                               learning_rate='optimal', loss='hinge',\n",
              "                               max_iter=50, n_iter_no_change=5, n_jobs=None,\n",
              "                               penalty='l2', power_t=0.5, random_state=None,\n",
              "                               shuffle=True, tol=0.001, validation_fraction=0.1,\n",
              "                               verbose=0, warm_start=False))],\n",
              "         verbose=False)"
            ]
          },
          "execution_count": 21,
          "metadata": {},
          "output_type": "execute_result"
        }
      ]
    },
    {
      "cell_type": "code",
      "metadata": {
        "colab": {
          "base_uri": "https://localhost:8080/"
        },
        "id": "fgAZgGcz4Gz7",
        "outputId": "bd80237f-9ab5-4a86-84ed-86a6b8f8c224"
      },
      "source": [
        "print(\"Précision du modèle de référence : \",processing.score(X_test_text, y_test))\n",
        "print(\"Test du modèle (avis 0 attendu ) : \", processing.predict([\"this movie was really awful\"]))\n",
        "print(\"Test du modèle (avis 1 attendu ) : \", processing.predict([\"this movie was really fantastic\"]))"
      ],
      "execution_count": null,
      "outputs": [
        {
          "name": "stdout",
          "output_type": "stream",
          "text": [
            "Précision du modèle de référence :  0.88512\n",
            "Test du modèle (avis 0 attendu ) :  [0]\n",
            "Test du modèle (avis 1 attendu ) :  [1]\n"
          ]
        }
      ]
    },
    {
      "cell_type": "markdown",
      "metadata": {
        "id": "v6Rpbeuq4Gz8"
      },
      "source": [
        "## Classification de séquences par réseau récurrent"
      ]
    },
    {
      "cell_type": "code",
      "metadata": {
        "id": "3__r74CA4Gz8"
      },
      "source": [
        "maxlen = 500\n",
        "\n",
        "# Sequence padding\n",
        "# Créer un tableau 2D avec 25k avis en lignes et les maxlen premiers mots de l'avis\n",
        "# en colonne. Si trop court, il sera complété par des 0\n",
        "\n",
        "X_train_trim = tf.keras.preprocessing.sequence.pad_sequences(X_train, maxlen)\n",
        "X_test_trim = tf.keras.preprocessing.sequence.pad_sequences(X_test, maxlen)"
      ],
      "execution_count": null,
      "outputs": []
    },
    {
      "cell_type": "code",
      "metadata": {
        "colab": {
          "base_uri": "https://localhost:8080/"
        },
        "id": "sQUrbhhH4Gz8",
        "outputId": "d31b9f33-b74a-4074-fac3-744686670b6e"
      },
      "source": [
        "model = keras.models.Sequential()\n",
        "model.add(Embedding(10000, output_dim=10))\n",
        "model.add(LSTM(32))\n",
        "model.add(Dense(1, activation=\"sigmoid\"))\n",
        "model.summary()"
      ],
      "execution_count": null,
      "outputs": [
        {
          "name": "stdout",
          "output_type": "stream",
          "text": [
            "Model: \"sequential_13\"\n",
            "_________________________________________________________________\n",
            "Layer (type)                 Output Shape              Param #   \n",
            "=================================================================\n",
            "embedding_12 (Embedding)     (None, None, 10)          100000    \n",
            "_________________________________________________________________\n",
            "lstm_11 (LSTM)               (None, 32)                5504      \n",
            "_________________________________________________________________\n",
            "dense_11 (Dense)             (None, 1)                 33        \n",
            "=================================================================\n",
            "Total params: 105,537\n",
            "Trainable params: 105,537\n",
            "Non-trainable params: 0\n",
            "_________________________________________________________________\n"
          ]
        }
      ]
    },
    {
      "cell_type": "code",
      "metadata": {
        "id": "86n_HCxv4Gz9"
      },
      "source": [
        "model.compile(optimizer=\"adam\", loss=\"binary_crossentropy\", metrics=[\"accuracy\"])"
      ],
      "execution_count": null,
      "outputs": []
    },
    {
      "cell_type": "code",
      "metadata": {
        "colab": {
          "base_uri": "https://localhost:8080/"
        },
        "id": "kUl04IZz4Gz9",
        "outputId": "83b131d6-7418-4740-e1c1-44a476ff56ee"
      },
      "source": [
        "history = model.fit(X_train_trim, y_train,epochs=10, batch_size=128, validation_split=0.2)"
      ],
      "execution_count": null,
      "outputs": [
        {
          "name": "stdout",
          "output_type": "stream",
          "text": [
            "Epoch 1/10\n",
            "157/157 [==============================] - 16s 88ms/step - loss: 0.1353 - accuracy: 0.9531 - val_loss: 0.3130 - val_accuracy: 0.8858\n",
            "Epoch 2/10\n",
            "157/157 [==============================] - 13s 85ms/step - loss: 0.1025 - accuracy: 0.9680 - val_loss: 0.3406 - val_accuracy: 0.8676\n",
            "Epoch 3/10\n",
            "157/157 [==============================] - 13s 85ms/step - loss: 0.0909 - accuracy: 0.9704 - val_loss: 0.4540 - val_accuracy: 0.8658\n",
            "Epoch 4/10\n",
            "157/157 [==============================] - 13s 84ms/step - loss: 0.0785 - accuracy: 0.9761 - val_loss: 0.4196 - val_accuracy: 0.8674\n",
            "Epoch 5/10\n",
            "157/157 [==============================] - 13s 83ms/step - loss: 0.0720 - accuracy: 0.9774 - val_loss: 0.4315 - val_accuracy: 0.8726\n",
            "Epoch 6/10\n",
            "157/157 [==============================] - 13s 83ms/step - loss: 0.0859 - accuracy: 0.9726 - val_loss: 0.4867 - val_accuracy: 0.8722\n",
            "Epoch 7/10\n",
            "157/157 [==============================] - 13s 84ms/step - loss: 0.0480 - accuracy: 0.9870 - val_loss: 0.4903 - val_accuracy: 0.8728\n",
            "Epoch 8/10\n",
            "157/157 [==============================] - 13s 83ms/step - loss: 0.0374 - accuracy: 0.9911 - val_loss: 0.7003 - val_accuracy: 0.8584\n",
            "Epoch 9/10\n",
            "157/157 [==============================] - 13s 83ms/step - loss: 0.0484 - accuracy: 0.9858 - val_loss: 0.5816 - val_accuracy: 0.8680\n",
            "Epoch 10/10\n",
            "157/157 [==============================] - 13s 83ms/step - loss: 0.0368 - accuracy: 0.9898 - val_loss: 0.6646 - val_accuracy: 0.8404\n"
          ]
        }
      ]
    },
    {
      "cell_type": "code",
      "metadata": {
        "colab": {
          "base_uri": "https://localhost:8080/",
          "height": 297
        },
        "id": "nm4P7mQ-4Gz9",
        "outputId": "25d47f34-184b-462b-afc1-7425285fbbb1"
      },
      "source": [
        "plt.plot(history.history['accuracy'])\n",
        "plt.title('Précision')\n",
        "plt.ylabel('Précision')\n",
        "plt.xlabel('epoch')\n",
        "plt.tight_layout()"
      ],
      "execution_count": null,
      "outputs": [
        {
          "data": {
            "image/png": "[encoded data removed]",
            "text/plain": [
              "<Figure size 432x288 with 1 Axes>"
            ]
          },
          "metadata": {},
          "output_type": "display_data"
        }
      ]
    },
    {
      "cell_type": "code",
      "metadata": {
        "colab": {
          "base_uri": "https://localhost:8080/"
        },
        "id": "wo-Pkhb-4Gz-",
        "outputId": "4b9b5519-0a7f-4db0-abf5-289e0c342466"
      },
      "source": [
        "model.evaluate(X_test_trim, y_test)\n",
        "print(\"Test du modèle (avis 0 attendu ) : \", processing.predict([\"shit movie...\"]))\n",
        "print(\"Test du modèle (avis 1 attendu ) : \", processing.predict([\"epic film !\"]))"
      ],
      "execution_count": null,
      "outputs": [
        {
          "name": "stdout",
          "output_type": "stream",
          "text": [
            "782/782 [==============================] - 23s 30ms/step - loss: 0.7705 - accuracy: 0.8161\n",
            "Test du modèle (avis 0 attendu ) :  [0]\n",
            "Test du modèle (avis 1 attendu ) :  [1]\n"
          ]
        }
      ]
    },
    {
      "cell_type": "markdown",
      "metadata": {
        "id": "nSOTz0au4Gz-"
      },
      "source": [
        "## Utilisation d'un réseau bidirectionnel"
      ]
    },
    {
      "cell_type": "code",
      "metadata": {
        "colab": {
          "base_uri": "https://localhost:8080/"
        },
        "id": "9niZEAJ94Gz_",
        "outputId": "2ade236a-e5f6-494a-d177-218aa8f47cf5"
      },
      "source": [
        "from tensorflow.keras.layers import Dropout, Bidirectional\n",
        "\n",
        "model = keras.models.Sequential()\n",
        "model.add(Embedding(10000, output_dim=10))\n",
        "model.add(Bidirectional(LSTM(32)))\n",
        "model.add(Dropout(0.2))\n",
        "model.add(Dense(1, activation=\"sigmoid\"))\n",
        "model.summary()"
      ],
      "execution_count": null,
      "outputs": [
        {
          "name": "stdout",
          "output_type": "stream",
          "text": [
            "Model: \"sequential_15\"\n",
            "_________________________________________________________________\n",
            "Layer (type)                 Output Shape              Param #   \n",
            "=================================================================\n",
            "embedding_14 (Embedding)     (None, None, 10)          100000    \n",
            "_________________________________________________________________\n",
            "bidirectional_1 (Bidirection (None, 64)                11008     \n",
            "_________________________________________________________________\n",
            "dropout (Dropout)            (None, 64)                0         \n",
            "_________________________________________________________________\n",
            "dense_13 (Dense)             (None, 1)                 65        \n",
            "=================================================================\n",
            "Total params: 111,073\n",
            "Trainable params: 111,073\n",
            "Non-trainable params: 0\n",
            "_________________________________________________________________\n"
          ]
        }
      ]
    },
    {
      "cell_type": "code",
      "metadata": {
        "id": "qkZfqtr94Gz_"
      },
      "source": [
        "model.compile(loss=\"binary_crossentropy\", optimizer=\"rmsprop\", metrics=[\"accuracy\"])"
      ],
      "execution_count": null,
      "outputs": []
    },
    {
      "cell_type": "code",
      "metadata": {
        "colab": {
          "base_uri": "https://localhost:8080/"
        },
        "id": "kCwy7Xxt4Gz_",
        "outputId": "d5c54ef2-69a9-422c-a4b0-56f98e7408c6"
      },
      "source": [
        "history = model.fit(X_train_trim, y_train,epochs=10, batch_size=128, validation_split=0.2)"
      ],
      "execution_count": null,
      "outputs": [
        {
          "name": "stdout",
          "output_type": "stream",
          "text": [
            "Epoch 1/10\n",
            "157/157 [==============================] - 33s 188ms/step - loss: 0.5950 - accuracy: 0.6887 - val_loss: 0.4256 - val_accuracy: 0.8192\n",
            "Epoch 2/10\n",
            "157/157 [==============================] - 29s 182ms/step - loss: 0.3619 - accuracy: 0.8550 - val_loss: 0.3246 - val_accuracy: 0.8630\n",
            "Epoch 3/10\n",
            "157/157 [==============================] - 29s 182ms/step - loss: 0.2818 - accuracy: 0.8909 - val_loss: 0.3011 - val_accuracy: 0.8782\n",
            "Epoch 4/10\n",
            "157/157 [==============================] - 29s 183ms/step - loss: 0.2355 - accuracy: 0.9102 - val_loss: 0.3526 - val_accuracy: 0.8744\n",
            "Epoch 5/10\n",
            "157/157 [==============================] - 29s 182ms/step - loss: 0.2062 - accuracy: 0.9258 - val_loss: 0.3802 - val_accuracy: 0.8692\n",
            "Epoch 6/10\n",
            "157/157 [==============================] - 29s 182ms/step - loss: 0.1791 - accuracy: 0.9348 - val_loss: 0.3259 - val_accuracy: 0.8560\n",
            "Epoch 7/10\n",
            "157/157 [==============================] - 29s 183ms/step - loss: 0.1618 - accuracy: 0.9443 - val_loss: 0.2904 - val_accuracy: 0.8902\n",
            "Epoch 8/10\n",
            "157/157 [==============================] - 29s 183ms/step - loss: 0.1495 - accuracy: 0.9484 - val_loss: 0.3101 - val_accuracy: 0.8870\n",
            "Epoch 9/10\n",
            "157/157 [==============================] - 29s 182ms/step - loss: 0.1362 - accuracy: 0.9539 - val_loss: 0.3388 - val_accuracy: 0.8738\n",
            "Epoch 10/10\n",
            "157/157 [==============================] - 29s 184ms/step - loss: 0.1305 - accuracy: 0.9550 - val_loss: 0.3278 - val_accuracy: 0.8876\n"
          ]
        }
      ]
    },
    {
      "cell_type": "code",
      "metadata": {
        "colab": {
          "background_save": true,
          "base_uri": "https://localhost:8080/"
        },
        "id": "HcHJisPl4G0A",
        "scrolled": true,
        "outputId": "2444b32d-a5ea-4c78-821c-b794f652e1b0"
      },
      "source": [
        "model.evaluate(X_test_trim, y_test)\n",
        "print(\"Test du modèle (avis 0 attendu ) : \", processing.predict([\"this movie was terrible !\"]))\n",
        "print(\"Test du modèle (avis 1 attendu ) : \", processing.predict([\"this movie was good\"]))"
      ],
      "execution_count": null,
      "outputs": [
        {
          "name": "stdout",
          "output_type": "stream",
          "text": [
            "782/782 [==============================] - 51s 65ms/step - loss: 0.3728 - accuracy: 0.8695\n",
            "Test du modèle (avis 0 attendu ) :  [0]\n",
            "Test du modèle (avis 1 attendu ) :  [1]\n"
          ]
        },
        {
          "name": "stderr",
          "output_type": "stream",
          "text": [
            "Exception ignored in: <function IteratorResourceDeleter.__del__ at 0x7fca5793c710>\n",
            "Traceback (most recent call last):\n",
            "  File \"/usr/local/lib/python3.7/dist-packages/tensorflow/python/data/ops/iterator_ops.py\", line 546, in __del__\n",
            "    handle=self._handle, deleter=self._deleter)\n",
            "  File \"/usr/local/lib/python3.7/dist-packages/tensorflow/python/ops/gen_dataset_ops.py\", line 1264, in delete_iterator\n",
            "    _ctx, \"DeleteIterator\", name, handle, deleter)\n",
            "KeyboardInterrupt: \n"
          ]
        }
      ]
    }
  ]
}