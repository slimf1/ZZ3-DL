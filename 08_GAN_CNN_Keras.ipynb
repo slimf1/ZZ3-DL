{
  "nbformat": 4,
  "nbformat_minor": 0,
  "metadata": {
    "kernelspec": {
      "display_name": "Python 3",
      "language": "python",
      "name": "python3"
    },
    "language_info": {
      "codemirror_mode": {
        "name": "ipython",
        "version": 3
      },
      "file_extension": ".py",
      "mimetype": "text/x-python",
      "name": "python",
      "nbconvert_exporter": "python",
      "pygments_lexer": "ipython3",
      "version": "3.6.5"
    },
    "colab": {
      "name": "08-GAN_CNN_Keras.ipynb",
      "provenance": [],
      "collapsed_sections": [],
      "include_colab_link": true
    },
    "accelerator": "GPU"
  },
  "cells": [
    {
      "cell_type": "markdown",
      "metadata": {
        "id": "view-in-github",
        "colab_type": "text"
      },
      "source": [
        "<a href=\"https://colab.research.google.com/github/slimf1/ZZ3-DL/blob/main/08_GAN_CNN_Keras.ipynb\" target=\"_parent\"><img src=\"https://colab.research.google.com/assets/colab-badge.svg\" alt=\"Open In Colab\"/></a>"
      ]
    },
    {
      "cell_type": "code",
      "metadata": {
        "id": "yIJjMDmUSjFj"
      },
      "source": [
        "import numpy as np\n",
        "import argparse\n",
        "\n",
        "import tensorflow.keras as tk\n",
        "\n",
        "\n",
        "from tensorflow.keras.models import Sequential\n",
        "from tensorflow.keras.layers import Dense, Activation, Flatten, Reshape,Conv2D, Conv2DTranspose, UpSampling2D\n",
        "from tensorflow.keras.layers import LeakyReLU, Dropout,BatchNormalization\n",
        "from tensorflow.keras.optimizers import RMSprop\n",
        "\n",
        "import matplotlib\n",
        "import matplotlib.pyplot as plt"
      ],
      "execution_count": 1,
      "outputs": []
    },
    {
      "cell_type": "code",
      "metadata": {
        "id": "Fegr43zzSjFk"
      },
      "source": [
        "def plotImages(G,sauve=False, fake=True, nb=16, noise=None, step=0):\n",
        "    filename = 'mnist.png'\n",
        "    if fake:\n",
        "        if noise is None:\n",
        "            noise = np.random.uniform(-1.0, 1.0, size=[nb, 100])\n",
        "        else:\n",
        "            filename = \"./images/mnist_%d.png\" % step\n",
        "        images = G.predict(noise)\n",
        "    else:\n",
        "        i = np.random.randint(0, x_train.shape[0], nb)\n",
        "        images = x_train[i, :, :, :]\n",
        "\n",
        "    plt.figure(figsize=(10,10))\n",
        "    for i in range(images.shape[0]):\n",
        "        plt.subplot(4, 4, i+1)\n",
        "        image = images[i, :, :, :]\n",
        "        image = np.reshape(image, [taille_image, taille_image])\n",
        "        plt.imshow(image, cmap='gray')\n",
        "        plt.axis('off')\n",
        "    plt.tight_layout()\n",
        "    if sauve:\n",
        "        plt.savefig(filename)\n",
        "        plt.close('all')\n",
        "    else:\n",
        "        plt.show()"
      ],
      "execution_count": 2,
      "outputs": []
    },
    {
      "cell_type": "code",
      "metadata": {
        "tags": [],
        "id": "IsVhmUiSSjFl",
        "colab": {
          "base_uri": "https://localhost:8080/"
        },
        "outputId": "3ccb07f9-0c2e-4795-aff4-a40230e497de"
      },
      "source": [
        "(x_train, y_train), (x_test, y_test) =tk.datasets.mnist.load_data()\n",
        "\n",
        "\n",
        "\n",
        "num_examples = x_train.shape[0] \n",
        "num_input = x_train.shape[1]*x_train.shape[2]\n",
        "num_classes = 10\n",
        "x_train = x_train.reshape(-1, x_train.shape[1],x_train.shape[2],1).astype(np.float32)/255\n",
        "x_test = x_test.reshape(-1, x_test.shape[1],x_test.shape[2],1).astype(np.float32)/255\n",
        "\n",
        "\n"
      ],
      "execution_count": 3,
      "outputs": [
        {
          "output_type": "stream",
          "name": "stdout",
          "text": [
            "Downloading data from https://storage.googleapis.com/tensorflow/tf-keras-datasets/mnist.npz\n",
            "11493376/11490434 [==============================] - 0s 0us/step\n",
            "11501568/11490434 [==============================] - 0s 0us/step\n"
          ]
        }
      ]
    },
    {
      "cell_type": "code",
      "metadata": {
        "id": "YyKD3cUgSjFm"
      },
      "source": [
        "numEpochs = 2000000\n",
        "tailleBatch = 128\n",
        "dropout = 0.5\n",
        "nb_filtres = 64\n",
        "taille_image = 28\n",
        "latentDim = 100\n"
      ],
      "execution_count": 4,
      "outputs": []
    },
    {
      "cell_type": "code",
      "metadata": {
        "id": "3zEC7dBPSjFn"
      },
      "source": [
        "def discriminant():\n",
        "    optimizer = RMSprop(lr=0.0002, decay=6e-8)\n",
        "    D = Sequential()\n",
        "    depth = nb_filtres\n",
        "    input_shape = (x_train.shape[1], x_train.shape[2], 1)\n",
        "    D.add(Conv2D(depth*1, 5, strides=2, input_shape=input_shape,padding='same'))\n",
        "    D.add(LeakyReLU(alpha=0.2))\n",
        "    D.add(Dropout(dropout))\n",
        "\n",
        "    D.add(Conv2D(depth*2, 5, strides=2, padding='same'))\n",
        "    D.add(LeakyReLU(alpha=0.2))\n",
        "    D.add(Dropout(dropout))\n",
        "\n",
        "    D.add(Conv2D(depth*4, 5, strides=2, padding='same'))\n",
        "    D.add(LeakyReLU(alpha=0.2))\n",
        "    D.add(Dropout(dropout))\n",
        "\n",
        "    D.add(Conv2D(depth*8, 5, strides=1, padding='same'))\n",
        "    D.add(LeakyReLU(alpha=0.2))\n",
        "    D.add(Dropout(dropout))\n",
        "\n",
        "    D.add(Flatten())\n",
        "    D.add(Dense(1))\n",
        "    D.add(Activation('sigmoid'))\n",
        "    D.compile(loss='binary_crossentropy', optimizer=optimizer,metrics=['accuracy'])\n",
        "    return D"
      ],
      "execution_count": 5,
      "outputs": []
    },
    {
      "cell_type": "code",
      "metadata": {
        "id": "R-DLAHqTSjFn"
      },
      "source": [
        "#Réseau générateur\n",
        "def generateur():\n",
        "    G = Sequential()\n",
        "    depth = 4*nb_filtres\n",
        "    dim = 7\n",
        "    G.add(Dense(dim*dim*depth, input_dim=latentDim))\n",
        "    G.add(BatchNormalization(momentum=0.9))\n",
        "    G.add(Activation('relu'))\n",
        "    G.add(Reshape((dim, dim, depth)))\n",
        "    G.add(Dropout(dropout))\n",
        "\n",
        "    G.add(UpSampling2D())\n",
        "    G.add(Conv2DTranspose(int(depth/2), 5, padding='same'))\n",
        "    G.add(BatchNormalization(momentum=0.9))\n",
        "    G.add(Activation('relu'))\n",
        "\n",
        "    G.add(UpSampling2D())\n",
        "    G.add(Conv2DTranspose(int(depth/4), 5, padding='same'))\n",
        "    G.add(BatchNormalization(momentum=0.9))\n",
        "    G.add(Activation('relu'))\n",
        "\n",
        "    G.add(Conv2DTranspose(int(depth/8), 5, padding='same'))\n",
        "    G.add(BatchNormalization(momentum=0.9))\n",
        "    G.add(Activation('relu'))\n",
        "\n",
        "    G.add(Conv2DTranspose(1, 5, padding='same'))\n",
        "    G.add(Activation('sigmoid'))\n",
        "    G.summary()\n",
        "    return G"
      ],
      "execution_count": 6,
      "outputs": []
    },
    {
      "cell_type": "code",
      "metadata": {
        "id": "vg4NNXsDSjFp"
      },
      "source": [
        "def adversarial():\n",
        "    optimizer = RMSprop(lr=0.0001, decay=3e-8)\n",
        "    A = Sequential()\n",
        "    A.add(G)\n",
        "    A.add(D)\n",
        "    A.compile(loss='binary_crossentropy', optimizer=optimizer,metrics=['accuracy'])\n",
        "    return A"
      ],
      "execution_count": 7,
      "outputs": []
    },
    {
      "cell_type": "code",
      "metadata": {
        "id": "3UtAIZ-HSjFp"
      },
      "source": [
        "\n",
        "def myGAN(D,A,G):\n",
        "\n",
        "    noise_input = None\n",
        "    noise_input = np.random.uniform(-1.0, 1.0, size=[16, 100])\n",
        " \n",
        "    for i in range(numEpochs):\n",
        "        images_train = x_train[np.random.randint(0,x_train.shape[0], size=tailleBatch), :, :, :]\n",
        "        noise = np.random.uniform(-1.0, 1.0, size=[tailleBatch, 100])\n",
        "        images_fake = G.predict(noise)\n",
        "        x = np.concatenate((images_train, images_fake))\n",
        "        y = np.ones([2*tailleBatch, 1])\n",
        "        y[tailleBatch:, :] = 0\n",
        "        d_loss = D.train_on_batch(x, y)\n",
        "\n",
        "        y = np.ones([tailleBatch, 1])\n",
        "        noise = np.random.uniform(-1.0, 1.0, size=[tailleBatch, 100])\n",
        "        a_loss = A.train_on_batch(noise, y)\n",
        "        log_mesg = \"Iter %d [perte D = %f, précision D = %f]/[perte A= %f, précision A= %f]\" % (i, d_loss[0], d_loss[1],a_loss[0], a_loss[1])\n",
        "        print(log_mesg)\n",
        "\n",
        "        if i % 100 == 0:\n",
        "            plotImages(G,fake=True)\n",
        "            plotImages(G,fake=False, sauve=True)\n",
        "\n",
        "        "
      ],
      "execution_count": 8,
      "outputs": []
    },
    {
      "cell_type": "code",
      "metadata": {
        "tags": [],
        "colab": {
          "base_uri": "https://localhost:8080/",
          "height": 1000
        },
        "id": "dtbSFPx6SjFq",
        "outputId": "edcadb08-02b4-4133-afa3-ef41510bf7a3"
      },
      "source": [
        "D =  discriminant()\n",
        "D.trainable = False # activer ou desactiver \n",
        "tk.utils.plot_model(D, to_file='D.png', show_shapes=True, show_layer_names=True)\n",
        "\n",
        "G = generateur()\n",
        "tk.utils.plot_model(G, to_file='G.png', show_shapes=True, show_layer_names=True)\n",
        "\n",
        "A = adversarial()\n",
        "tk.utils.plot_model(A, to_file='A.png', show_shapes=True, show_layer_names=True)\n",
        "\n",
        "myGAN(D,A,G)\n"
      ],
      "execution_count": 9,
      "outputs": [
        {
          "output_type": "stream",
          "name": "stdout",
          "text": [
            "Iter 8290 [perte D = 0.657403, précision D = 0.593750]/[perte A= 0.838439, précision A= 0.343750]\n",
            "Iter 8291 [perte D = 0.667714, précision D = 0.605469]/[perte A= 0.898414, précision A= 0.312500]\n",
            "Iter 8292 [perte D = 0.640312, précision D = 0.617188]/[perte A= 0.844814, précision A= 0.320312]\n",
            "Iter 8293 [perte D = 0.613891, précision D = 0.703125]/[perte A= 0.819219, précision A= 0.398438]\n",
            "Iter 8294 [perte D = 0.641881, précision D = 0.625000]/[perte A= 0.966544, précision A= 0.203125]\n",
            "Iter 8295 [perte D = 0.662101, précision D = 0.601562]/[perte A= 0.737268, précision A= 0.492188]\n",
            "Iter 8296 [perte D = 0.641323, précision D = 0.628906]/[perte A= 0.918524, précision A= 0.203125]\n",
            "Iter 8297 [perte D = 0.625948, précision D = 0.640625]/[perte A= 0.814085, précision A= 0.359375]\n",
            "Iter 8298 [perte D = 0.626472, précision D = 0.675781]/[perte A= 0.875819, précision A= 0.328125]\n",
            "Iter 8299 [perte D = 0.655478, précision D = 0.621094]/[perte A= 0.975916, précision A= 0.187500]\n",
            "Iter 8300 [perte D = 0.666272, précision D = 0.558594]/[perte A= 0.763591, précision A= 0.476562]\n"
          ]
        },
        {
          "output_type": "display_data",
          "data": {
            "image/png": "[encoded data removed]",
            "text/plain": [
              "<Figure size 720x720 with 16 Axes>"
            ]
          },
          "metadata": {
            "needs_background": "light"
          }
        },
        {
          "output_type": "stream",
          "name": "stdout",
          "text": [
            "Iter 8301 [perte D = 0.652819, précision D = 0.617188]/[perte A= 0.912472, précision A= 0.250000]\n",
            "Iter 8302 [perte D = 0.640353, précision D = 0.617188]/[perte A= 0.918617, précision A= 0.203125]\n",
            "Iter 8303 [perte D = 0.641538, précision D = 0.632812]/[perte A= 0.787955, précision A= 0.382812]\n",
            "Iter 8304 [perte D = 0.637788, précision D = 0.652344]/[perte A= 0.928232, précision A= 0.250000]\n",
            "Iter 8305 [perte D = 0.653911, précision D = 0.613281]/[perte A= 0.860389, précision A= 0.289062]\n",
            "Iter 8306 [perte D = 0.631677, précision D = 0.621094]/[perte A= 0.848429, précision A= 0.320312]\n",
            "Iter 8307 [perte D = 0.643215, précision D = 0.605469]/[perte A= 0.827966, précision A= 0.367188]\n",
            "Iter 8308 [perte D = 0.646957, précision D = 0.628906]/[perte A= 0.900806, précision A= 0.273438]\n",
            "Iter 8309 [perte D = 0.679014, précision D = 0.625000]/[perte A= 0.835332, précision A= 0.328125]\n",
            "Iter 8310 [perte D = 0.668118, précision D = 0.605469]/[perte A= 0.959160, précision A= 0.210938]\n",
            "Iter 8311 [perte D = 0.624278, précision D = 0.652344]/[perte A= 0.804367, précision A= 0.414062]\n",
            "Iter 8312 [perte D = 0.679246, précision D = 0.562500]/[perte A= 0.973681, précision A= 0.203125]\n",
            "Iter 8313 [perte D = 0.657662, précision D = 0.617188]/[perte A= 0.813873, précision A= 0.367188]\n",
            "Iter 8314 [perte D = 0.683693, précision D = 0.582031]/[perte A= 0.856250, précision A= 0.289062]\n",
            "Iter 8315 [perte D = 0.650763, précision D = 0.617188]/[perte A= 0.847671, précision A= 0.273438]\n",
            "Iter 8316 [perte D = 0.638566, précision D = 0.632812]/[perte A= 0.959207, précision A= 0.242188]\n",
            "Iter 8317 [perte D = 0.623462, précision D = 0.648438]/[perte A= 0.825702, précision A= 0.375000]\n",
            "Iter 8318 [perte D = 0.663068, précision D = 0.625000]/[perte A= 0.912239, précision A= 0.281250]\n",
            "Iter 8319 [perte D = 0.672276, précision D = 0.605469]/[perte A= 0.752036, précision A= 0.476562]\n",
            "Iter 8320 [perte D = 0.633820, précision D = 0.636719]/[perte A= 0.883844, précision A= 0.328125]\n",
            "Iter 8321 [perte D = 0.644854, précision D = 0.609375]/[perte A= 0.866227, précision A= 0.281250]\n",
            "Iter 8322 [perte D = 0.659252, précision D = 0.574219]/[perte A= 0.880395, précision A= 0.250000]\n",
            "Iter 8323 [perte D = 0.630708, précision D = 0.660156]/[perte A= 0.888394, précision A= 0.281250]\n",
            "Iter 8324 [perte D = 0.651738, précision D = 0.632812]/[perte A= 0.974522, précision A= 0.171875]\n",
            "Iter 8325 [perte D = 0.652490, précision D = 0.593750]/[perte A= 0.758862, précision A= 0.390625]\n",
            "Iter 8326 [perte D = 0.673289, précision D = 0.605469]/[perte A= 0.947692, précision A= 0.218750]\n",
            "Iter 8327 [perte D = 0.639974, précision D = 0.656250]/[perte A= 0.751500, précision A= 0.468750]\n",
            "Iter 8328 [perte D = 0.665910, précision D = 0.578125]/[perte A= 0.905554, précision A= 0.210938]\n",
            "Iter 8329 [perte D = 0.653215, précision D = 0.617188]/[perte A= 0.897663, précision A= 0.289062]\n",
            "Iter 8330 [perte D = 0.637723, précision D = 0.621094]/[perte A= 0.782910, précision A= 0.414062]\n",
            "Iter 8331 [perte D = 0.620412, précision D = 0.636719]/[perte A= 0.941468, précision A= 0.250000]\n",
            "Iter 8332 [perte D = 0.658679, précision D = 0.613281]/[perte A= 0.861677, précision A= 0.343750]\n",
            "Iter 8333 [perte D = 0.652941, précision D = 0.609375]/[perte A= 0.822749, précision A= 0.367188]\n",
            "Iter 8334 [perte D = 0.653401, précision D = 0.578125]/[perte A= 0.854344, précision A= 0.304688]\n",
            "Iter 8335 [perte D = 0.634441, précision D = 0.644531]/[perte A= 0.846051, précision A= 0.304688]\n",
            "Iter 8336 [perte D = 0.656203, précision D = 0.628906]/[perte A= 0.892445, précision A= 0.335938]\n",
            "Iter 8337 [perte D = 0.677638, précision D = 0.585938]/[perte A= 0.904348, précision A= 0.320312]\n",
            "Iter 8338 [perte D = 0.630670, précision D = 0.640625]/[perte A= 0.890621, précision A= 0.312500]\n",
            "Iter 8339 [perte D = 0.686528, précision D = 0.578125]/[perte A= 0.978127, précision A= 0.234375]\n",
            "Iter 8340 [perte D = 0.637604, précision D = 0.625000]/[perte A= 0.779961, précision A= 0.406250]\n",
            "Iter 8341 [perte D = 0.660436, précision D = 0.589844]/[perte A= 0.873134, précision A= 0.265625]\n",
            "Iter 8342 [perte D = 0.665181, précision D = 0.601562]/[perte A= 0.734110, précision A= 0.460938]\n",
            "Iter 8343 [perte D = 0.651219, précision D = 0.613281]/[perte A= 0.877664, précision A= 0.304688]\n",
            "Iter 8344 [perte D = 0.649592, précision D = 0.601562]/[perte A= 0.806558, précision A= 0.359375]\n",
            "Iter 8345 [perte D = 0.635271, précision D = 0.632812]/[perte A= 0.901056, précision A= 0.289062]\n",
            "Iter 8346 [perte D = 0.622822, précision D = 0.671875]/[perte A= 0.780546, précision A= 0.406250]\n",
            "Iter 8347 [perte D = 0.636864, précision D = 0.660156]/[perte A= 0.911273, précision A= 0.218750]\n",
            "Iter 8348 [perte D = 0.684072, précision D = 0.566406]/[perte A= 0.853567, précision A= 0.312500]\n",
            "Iter 8349 [perte D = 0.656693, précision D = 0.605469]/[perte A= 0.792660, précision A= 0.375000]\n",
            "Iter 8350 [perte D = 0.655989, précision D = 0.613281]/[perte A= 0.959103, précision A= 0.210938]\n",
            "Iter 8351 [perte D = 0.655343, précision D = 0.617188]/[perte A= 0.836876, précision A= 0.328125]\n",
            "Iter 8352 [perte D = 0.664602, précision D = 0.632812]/[perte A= 0.965106, précision A= 0.226562]\n",
            "Iter 8353 [perte D = 0.628330, précision D = 0.644531]/[perte A= 0.818169, précision A= 0.390625]\n",
            "Iter 8354 [perte D = 0.665879, précision D = 0.601562]/[perte A= 0.957554, précision A= 0.242188]\n",
            "Iter 8355 [perte D = 0.653797, précision D = 0.609375]/[perte A= 0.894124, précision A= 0.289062]\n",
            "Iter 8356 [perte D = 0.648919, précision D = 0.593750]/[perte A= 0.810713, précision A= 0.335938]\n",
            "Iter 8357 [perte D = 0.645118, précision D = 0.593750]/[perte A= 0.867700, précision A= 0.289062]\n",
            "Iter 8358 [perte D = 0.652665, précision D = 0.656250]/[perte A= 0.808858, précision A= 0.398438]\n",
            "Iter 8359 [perte D = 0.661990, précision D = 0.589844]/[perte A= 0.876562, précision A= 0.296875]\n",
            "Iter 8360 [perte D = 0.664465, précision D = 0.589844]/[perte A= 0.849058, précision A= 0.343750]\n",
            "Iter 8361 [perte D = 0.667932, précision D = 0.621094]/[perte A= 0.883089, précision A= 0.257812]\n",
            "Iter 8362 [perte D = 0.654177, précision D = 0.601562]/[perte A= 0.848717, précision A= 0.335938]\n",
            "Iter 8363 [perte D = 0.623179, précision D = 0.640625]/[perte A= 0.819929, précision A= 0.421875]\n",
            "Iter 8364 [perte D = 0.666149, précision D = 0.613281]/[perte A= 0.898069, précision A= 0.218750]\n",
            "Iter 8365 [perte D = 0.631506, précision D = 0.667969]/[perte A= 0.880602, précision A= 0.335938]\n",
            "Iter 8366 [perte D = 0.652755, précision D = 0.574219]/[perte A= 0.865500, précision A= 0.343750]\n",
            "Iter 8367 [perte D = 0.677842, précision D = 0.578125]/[perte A= 0.787754, précision A= 0.421875]\n",
            "Iter 8368 [perte D = 0.669938, précision D = 0.617188]/[perte A= 0.895250, précision A= 0.250000]\n",
            "Iter 8369 [perte D = 0.657141, précision D = 0.605469]/[perte A= 0.775967, précision A= 0.437500]\n",
            "Iter 8370 [perte D = 0.640978, précision D = 0.597656]/[perte A= 0.878282, précision A= 0.257812]\n",
            "Iter 8371 [perte D = 0.662946, précision D = 0.605469]/[perte A= 0.784176, précision A= 0.421875]\n",
            "Iter 8372 [perte D = 0.633608, précision D = 0.648438]/[perte A= 0.879321, précision A= 0.375000]\n",
            "Iter 8373 [perte D = 0.624264, précision D = 0.652344]/[perte A= 0.830097, précision A= 0.359375]\n",
            "Iter 8374 [perte D = 0.637418, précision D = 0.613281]/[perte A= 0.961949, précision A= 0.265625]\n",
            "Iter 8375 [perte D = 0.642631, précision D = 0.625000]/[perte A= 0.877745, précision A= 0.296875]\n",
            "Iter 8376 [perte D = 0.631959, précision D = 0.621094]/[perte A= 0.832551, précision A= 0.343750]\n",
            "Iter 8377 [perte D = 0.655426, précision D = 0.593750]/[perte A= 0.896504, précision A= 0.304688]\n",
            "Iter 8378 [perte D = 0.670386, précision D = 0.597656]/[perte A= 0.839395, précision A= 0.343750]\n",
            "Iter 8379 [perte D = 0.629341, précision D = 0.683594]/[perte A= 0.896410, précision A= 0.218750]\n",
            "Iter 8380 [perte D = 0.614503, précision D = 0.644531]/[perte A= 0.799370, précision A= 0.398438]\n",
            "Iter 8381 [perte D = 0.628758, précision D = 0.652344]/[perte A= 0.837752, précision A= 0.367188]\n",
            "Iter 8382 [perte D = 0.655852, précision D = 0.589844]/[perte A= 0.854043, précision A= 0.328125]\n",
            "Iter 8383 [perte D = 0.655153, précision D = 0.640625]/[perte A= 0.819501, précision A= 0.343750]\n",
            "Iter 8384 [perte D = 0.636483, précision D = 0.660156]/[perte A= 0.931644, précision A= 0.250000]\n",
            "Iter 8385 [perte D = 0.642335, précision D = 0.644531]/[perte A= 0.852455, précision A= 0.289062]\n",
            "Iter 8386 [perte D = 0.626266, précision D = 0.667969]/[perte A= 0.907518, précision A= 0.226562]\n",
            "Iter 8387 [perte D = 0.632265, précision D = 0.640625]/[perte A= 0.834935, précision A= 0.382812]\n",
            "Iter 8388 [perte D = 0.649385, précision D = 0.652344]/[perte A= 0.987885, précision A= 0.171875]\n",
            "Iter 8389 [perte D = 0.659904, précision D = 0.601562]/[perte A= 0.865452, précision A= 0.320312]\n",
            "Iter 8390 [perte D = 0.659895, précision D = 0.605469]/[perte A= 0.885828, précision A= 0.257812]\n",
            "Iter 8391 [perte D = 0.674835, précision D = 0.585938]/[perte A= 0.863653, précision A= 0.312500]\n",
            "Iter 8392 [perte D = 0.647945, précision D = 0.597656]/[perte A= 0.885258, précision A= 0.296875]\n",
            "Iter 8393 [perte D = 0.636488, précision D = 0.625000]/[perte A= 0.695540, précision A= 0.578125]\n",
            "Iter 8394 [perte D = 0.645782, précision D = 0.679688]/[perte A= 0.933687, précision A= 0.210938]\n",
            "Iter 8395 [perte D = 0.638751, précision D = 0.632812]/[perte A= 0.846656, précision A= 0.320312]\n",
            "Iter 8396 [perte D = 0.652006, précision D = 0.609375]/[perte A= 0.868860, précision A= 0.289062]\n",
            "Iter 8397 [perte D = 0.672494, précision D = 0.609375]/[perte A= 0.925354, précision A= 0.234375]\n",
            "Iter 8398 [perte D = 0.621490, précision D = 0.636719]/[perte A= 0.914155, précision A= 0.242188]\n",
            "Iter 8399 [perte D = 0.678922, précision D = 0.593750]/[perte A= 0.992913, précision A= 0.210938]\n",
            "Iter 8400 [perte D = 0.642973, précision D = 0.628906]/[perte A= 0.782324, précision A= 0.429688]\n"
          ]
        },
        {
          "output_type": "display_data",
          "data": {
            "image/png": "[encoded data removed]",
            "text/plain": [
              "<Figure size 720x720 with 16 Axes>"
            ]
          },
          "metadata": {
            "needs_background": "light"
          }
        },
        {
          "output_type": "stream",
          "name": "stdout",
          "text": [
            "Iter 8401 [perte D = 0.646100, précision D = 0.632812]/[perte A= 0.980858, précision A= 0.218750]\n",
            "Iter 8402 [perte D = 0.650444, précision D = 0.609375]/[perte A= 0.802333, précision A= 0.375000]\n",
            "Iter 8403 [perte D = 0.646250, précision D = 0.652344]/[perte A= 0.920465, précision A= 0.304688]\n",
            "Iter 8404 [perte D = 0.645136, précision D = 0.609375]/[perte A= 0.951249, précision A= 0.187500]\n",
            "Iter 8405 [perte D = 0.641310, précision D = 0.640625]/[perte A= 0.855585, précision A= 0.304688]\n",
            "Iter 8406 [perte D = 0.637055, précision D = 0.652344]/[perte A= 0.925926, précision A= 0.257812]\n",
            "Iter 8407 [perte D = 0.654263, précision D = 0.613281]/[perte A= 0.811484, précision A= 0.328125]\n",
            "Iter 8408 [perte D = 0.642111, précision D = 0.621094]/[perte A= 0.929723, précision A= 0.226562]\n",
            "Iter 8409 [perte D = 0.644310, précision D = 0.625000]/[perte A= 0.785217, précision A= 0.367188]\n",
            "Iter 8410 [perte D = 0.638019, précision D = 0.621094]/[perte A= 0.935291, précision A= 0.210938]\n",
            "Iter 8411 [perte D = 0.645249, précision D = 0.656250]/[perte A= 0.910287, précision A= 0.281250]\n",
            "Iter 8412 [perte D = 0.643601, précision D = 0.644531]/[perte A= 0.953741, précision A= 0.226562]\n",
            "Iter 8413 [perte D = 0.640931, précision D = 0.621094]/[perte A= 0.869804, précision A= 0.335938]\n",
            "Iter 8414 [perte D = 0.645467, précision D = 0.613281]/[perte A= 0.884783, précision A= 0.320312]\n",
            "Iter 8415 [perte D = 0.626587, précision D = 0.667969]/[perte A= 0.771568, précision A= 0.429688]\n",
            "Iter 8416 [perte D = 0.631165, précision D = 0.644531]/[perte A= 0.947143, précision A= 0.203125]\n",
            "Iter 8417 [perte D = 0.628854, précision D = 0.621094]/[perte A= 0.767309, précision A= 0.382812]\n",
            "Iter 8418 [perte D = 0.632256, précision D = 0.617188]/[perte A= 0.910319, précision A= 0.296875]\n",
            "Iter 8419 [perte D = 0.678052, précision D = 0.582031]/[perte A= 0.876966, précision A= 0.265625]\n",
            "Iter 8420 [perte D = 0.630303, précision D = 0.664062]/[perte A= 0.868763, précision A= 0.312500]\n",
            "Iter 8421 [perte D = 0.674574, précision D = 0.578125]/[perte A= 0.891913, précision A= 0.312500]\n",
            "Iter 8422 [perte D = 0.657483, précision D = 0.578125]/[perte A= 0.989099, précision A= 0.140625]\n",
            "Iter 8423 [perte D = 0.658763, précision D = 0.593750]/[perte A= 0.788613, précision A= 0.406250]\n"
          ]
        },
        {
          "output_type": "error",
          "ename": "KeyboardInterrupt",
          "evalue": "ignored",
          "traceback": [
            "\u001b[0;31m---------------------------------------------------------------------------\u001b[0m",
            "\u001b[0;31mKeyboardInterrupt\u001b[0m                         Traceback (most recent call last)",
            "\u001b[0;32m<ipython-input-9-2e5032ccb425>\u001b[0m in \u001b[0;36m<module>\u001b[0;34m()\u001b[0m\n\u001b[1;32m      9\u001b[0m \u001b[0mtk\u001b[0m\u001b[0;34m.\u001b[0m\u001b[0mutils\u001b[0m\u001b[0;34m.\u001b[0m\u001b[0mplot_model\u001b[0m\u001b[0;34m(\u001b[0m\u001b[0mA\u001b[0m\u001b[0;34m,\u001b[0m \u001b[0mto_file\u001b[0m\u001b[0;34m=\u001b[0m\u001b[0;34m'A.png'\u001b[0m\u001b[0;34m,\u001b[0m \u001b[0mshow_shapes\u001b[0m\u001b[0;34m=\u001b[0m\u001b[0;32mTrue\u001b[0m\u001b[0;34m,\u001b[0m \u001b[0mshow_layer_names\u001b[0m\u001b[0;34m=\u001b[0m\u001b[0;32mTrue\u001b[0m\u001b[0;34m)\u001b[0m\u001b[0;34m\u001b[0m\u001b[0;34m\u001b[0m\u001b[0m\n\u001b[1;32m     10\u001b[0m \u001b[0;34m\u001b[0m\u001b[0m\n\u001b[0;32m---> 11\u001b[0;31m \u001b[0mmyGAN\u001b[0m\u001b[0;34m(\u001b[0m\u001b[0mD\u001b[0m\u001b[0;34m,\u001b[0m\u001b[0mA\u001b[0m\u001b[0;34m,\u001b[0m\u001b[0mG\u001b[0m\u001b[0;34m)\u001b[0m\u001b[0;34m\u001b[0m\u001b[0;34m\u001b[0m\u001b[0m\n\u001b[0m",
            "\u001b[0;32m<ipython-input-8-9187c049521d>\u001b[0m in \u001b[0;36mmyGAN\u001b[0;34m(D, A, G)\u001b[0m\n\u001b[1;32m     16\u001b[0m         \u001b[0my\u001b[0m \u001b[0;34m=\u001b[0m \u001b[0mnp\u001b[0m\u001b[0;34m.\u001b[0m\u001b[0mones\u001b[0m\u001b[0;34m(\u001b[0m\u001b[0;34m[\u001b[0m\u001b[0mtailleBatch\u001b[0m\u001b[0;34m,\u001b[0m \u001b[0;36m1\u001b[0m\u001b[0;34m]\u001b[0m\u001b[0;34m)\u001b[0m\u001b[0;34m\u001b[0m\u001b[0;34m\u001b[0m\u001b[0m\n\u001b[1;32m     17\u001b[0m         \u001b[0mnoise\u001b[0m \u001b[0;34m=\u001b[0m \u001b[0mnp\u001b[0m\u001b[0;34m.\u001b[0m\u001b[0mrandom\u001b[0m\u001b[0;34m.\u001b[0m\u001b[0muniform\u001b[0m\u001b[0;34m(\u001b[0m\u001b[0;34m-\u001b[0m\u001b[0;36m1.0\u001b[0m\u001b[0;34m,\u001b[0m \u001b[0;36m1.0\u001b[0m\u001b[0;34m,\u001b[0m \u001b[0msize\u001b[0m\u001b[0;34m=\u001b[0m\u001b[0;34m[\u001b[0m\u001b[0mtailleBatch\u001b[0m\u001b[0;34m,\u001b[0m \u001b[0;36m100\u001b[0m\u001b[0;34m]\u001b[0m\u001b[0;34m)\u001b[0m\u001b[0;34m\u001b[0m\u001b[0;34m\u001b[0m\u001b[0m\n\u001b[0;32m---> 18\u001b[0;31m         \u001b[0ma_loss\u001b[0m \u001b[0;34m=\u001b[0m \u001b[0mA\u001b[0m\u001b[0;34m.\u001b[0m\u001b[0mtrain_on_batch\u001b[0m\u001b[0;34m(\u001b[0m\u001b[0mnoise\u001b[0m\u001b[0;34m,\u001b[0m \u001b[0my\u001b[0m\u001b[0;34m)\u001b[0m\u001b[0;34m\u001b[0m\u001b[0;34m\u001b[0m\u001b[0m\n\u001b[0m\u001b[1;32m     19\u001b[0m         \u001b[0mlog_mesg\u001b[0m \u001b[0;34m=\u001b[0m \u001b[0;34m\"Iter %d [perte D = %f, précision D = %f]/[perte A= %f, précision A= %f]\"\u001b[0m \u001b[0;34m%\u001b[0m \u001b[0;34m(\u001b[0m\u001b[0mi\u001b[0m\u001b[0;34m,\u001b[0m \u001b[0md_loss\u001b[0m\u001b[0;34m[\u001b[0m\u001b[0;36m0\u001b[0m\u001b[0;34m]\u001b[0m\u001b[0;34m,\u001b[0m \u001b[0md_loss\u001b[0m\u001b[0;34m[\u001b[0m\u001b[0;36m1\u001b[0m\u001b[0;34m]\u001b[0m\u001b[0;34m,\u001b[0m\u001b[0ma_loss\u001b[0m\u001b[0;34m[\u001b[0m\u001b[0;36m0\u001b[0m\u001b[0;34m]\u001b[0m\u001b[0;34m,\u001b[0m \u001b[0ma_loss\u001b[0m\u001b[0;34m[\u001b[0m\u001b[0;36m1\u001b[0m\u001b[0;34m]\u001b[0m\u001b[0;34m)\u001b[0m\u001b[0;34m\u001b[0m\u001b[0;34m\u001b[0m\u001b[0m\n\u001b[1;32m     20\u001b[0m         \u001b[0mprint\u001b[0m\u001b[0;34m(\u001b[0m\u001b[0mlog_mesg\u001b[0m\u001b[0;34m)\u001b[0m\u001b[0;34m\u001b[0m\u001b[0;34m\u001b[0m\u001b[0m\n",
            "\u001b[0;32m/usr/local/lib/python3.7/dist-packages/keras/engine/training.py\u001b[0m in \u001b[0;36mtrain_on_batch\u001b[0;34m(self, x, y, sample_weight, class_weight, reset_metrics, return_dict)\u001b[0m\n\u001b[1;32m   1900\u001b[0m       \u001b[0mlogs\u001b[0m \u001b[0;34m=\u001b[0m \u001b[0mself\u001b[0m\u001b[0;34m.\u001b[0m\u001b[0mtrain_function\u001b[0m\u001b[0;34m(\u001b[0m\u001b[0miterator\u001b[0m\u001b[0;34m)\u001b[0m\u001b[0;34m\u001b[0m\u001b[0;34m\u001b[0m\u001b[0m\n\u001b[1;32m   1901\u001b[0m \u001b[0;34m\u001b[0m\u001b[0m\n\u001b[0;32m-> 1902\u001b[0;31m     \u001b[0mlogs\u001b[0m \u001b[0;34m=\u001b[0m \u001b[0mtf_utils\u001b[0m\u001b[0;34m.\u001b[0m\u001b[0msync_to_numpy_or_python_type\u001b[0m\u001b[0;34m(\u001b[0m\u001b[0mlogs\u001b[0m\u001b[0;34m)\u001b[0m\u001b[0;34m\u001b[0m\u001b[0;34m\u001b[0m\u001b[0m\n\u001b[0m\u001b[1;32m   1903\u001b[0m     \u001b[0;32mif\u001b[0m \u001b[0mreturn_dict\u001b[0m\u001b[0;34m:\u001b[0m\u001b[0;34m\u001b[0m\u001b[0;34m\u001b[0m\u001b[0m\n\u001b[1;32m   1904\u001b[0m       \u001b[0;32mreturn\u001b[0m \u001b[0mlogs\u001b[0m\u001b[0;34m\u001b[0m\u001b[0;34m\u001b[0m\u001b[0m\n",
            "\u001b[0;32m/usr/local/lib/python3.7/dist-packages/keras/utils/tf_utils.py\u001b[0m in \u001b[0;36msync_to_numpy_or_python_type\u001b[0;34m(tensors)\u001b[0m\n\u001b[1;32m    552\u001b[0m     \u001b[0;32mreturn\u001b[0m \u001b[0mt\u001b[0m  \u001b[0;31m# Don't turn ragged or sparse tensors to NumPy.\u001b[0m\u001b[0;34m\u001b[0m\u001b[0;34m\u001b[0m\u001b[0m\n\u001b[1;32m    553\u001b[0m \u001b[0;34m\u001b[0m\u001b[0m\n\u001b[0;32m--> 554\u001b[0;31m   \u001b[0;32mreturn\u001b[0m \u001b[0mtf\u001b[0m\u001b[0;34m.\u001b[0m\u001b[0mnest\u001b[0m\u001b[0;34m.\u001b[0m\u001b[0mmap_structure\u001b[0m\u001b[0;34m(\u001b[0m\u001b[0m_to_single_numpy_or_python_type\u001b[0m\u001b[0;34m,\u001b[0m \u001b[0mtensors\u001b[0m\u001b[0;34m)\u001b[0m\u001b[0;34m\u001b[0m\u001b[0;34m\u001b[0m\u001b[0m\n\u001b[0m\u001b[1;32m    555\u001b[0m \u001b[0;34m\u001b[0m\u001b[0m\n\u001b[1;32m    556\u001b[0m \u001b[0;34m\u001b[0m\u001b[0m\n",
            "\u001b[0;32m/usr/local/lib/python3.7/dist-packages/tensorflow/python/util/nest.py\u001b[0m in \u001b[0;36mmap_structure\u001b[0;34m(func, *structure, **kwargs)\u001b[0m\n\u001b[1;32m    867\u001b[0m \u001b[0;34m\u001b[0m\u001b[0m\n\u001b[1;32m    868\u001b[0m   return pack_sequence_as(\n\u001b[0;32m--> 869\u001b[0;31m       \u001b[0mstructure\u001b[0m\u001b[0;34m[\u001b[0m\u001b[0;36m0\u001b[0m\u001b[0;34m]\u001b[0m\u001b[0;34m,\u001b[0m \u001b[0;34m[\u001b[0m\u001b[0mfunc\u001b[0m\u001b[0;34m(\u001b[0m\u001b[0;34m*\u001b[0m\u001b[0mx\u001b[0m\u001b[0;34m)\u001b[0m \u001b[0;32mfor\u001b[0m \u001b[0mx\u001b[0m \u001b[0;32min\u001b[0m \u001b[0mentries\u001b[0m\u001b[0;34m]\u001b[0m\u001b[0;34m,\u001b[0m\u001b[0;34m\u001b[0m\u001b[0;34m\u001b[0m\u001b[0m\n\u001b[0m\u001b[1;32m    870\u001b[0m       expand_composites=expand_composites)\n\u001b[1;32m    871\u001b[0m \u001b[0;34m\u001b[0m\u001b[0m\n",
            "\u001b[0;32m/usr/local/lib/python3.7/dist-packages/tensorflow/python/util/nest.py\u001b[0m in \u001b[0;36m<listcomp>\u001b[0;34m(.0)\u001b[0m\n\u001b[1;32m    867\u001b[0m \u001b[0;34m\u001b[0m\u001b[0m\n\u001b[1;32m    868\u001b[0m   return pack_sequence_as(\n\u001b[0;32m--> 869\u001b[0;31m       \u001b[0mstructure\u001b[0m\u001b[0;34m[\u001b[0m\u001b[0;36m0\u001b[0m\u001b[0;34m]\u001b[0m\u001b[0;34m,\u001b[0m \u001b[0;34m[\u001b[0m\u001b[0mfunc\u001b[0m\u001b[0;34m(\u001b[0m\u001b[0;34m*\u001b[0m\u001b[0mx\u001b[0m\u001b[0;34m)\u001b[0m \u001b[0;32mfor\u001b[0m \u001b[0mx\u001b[0m \u001b[0;32min\u001b[0m \u001b[0mentries\u001b[0m\u001b[0;34m]\u001b[0m\u001b[0;34m,\u001b[0m\u001b[0;34m\u001b[0m\u001b[0;34m\u001b[0m\u001b[0m\n\u001b[0m\u001b[1;32m    870\u001b[0m       expand_composites=expand_composites)\n\u001b[1;32m    871\u001b[0m \u001b[0;34m\u001b[0m\u001b[0m\n",
            "\u001b[0;32m/usr/local/lib/python3.7/dist-packages/keras/utils/tf_utils.py\u001b[0m in \u001b[0;36m_to_single_numpy_or_python_type\u001b[0;34m(t)\u001b[0m\n\u001b[1;32m    548\u001b[0m   \u001b[0;32mdef\u001b[0m \u001b[0m_to_single_numpy_or_python_type\u001b[0m\u001b[0;34m(\u001b[0m\u001b[0mt\u001b[0m\u001b[0;34m)\u001b[0m\u001b[0;34m:\u001b[0m\u001b[0;34m\u001b[0m\u001b[0;34m\u001b[0m\u001b[0m\n\u001b[1;32m    549\u001b[0m     \u001b[0;32mif\u001b[0m \u001b[0misinstance\u001b[0m\u001b[0;34m(\u001b[0m\u001b[0mt\u001b[0m\u001b[0;34m,\u001b[0m \u001b[0mtf\u001b[0m\u001b[0;34m.\u001b[0m\u001b[0mTensor\u001b[0m\u001b[0;34m)\u001b[0m\u001b[0;34m:\u001b[0m\u001b[0;34m\u001b[0m\u001b[0;34m\u001b[0m\u001b[0m\n\u001b[0;32m--> 550\u001b[0;31m       \u001b[0mx\u001b[0m \u001b[0;34m=\u001b[0m \u001b[0mt\u001b[0m\u001b[0;34m.\u001b[0m\u001b[0mnumpy\u001b[0m\u001b[0;34m(\u001b[0m\u001b[0;34m)\u001b[0m\u001b[0;34m\u001b[0m\u001b[0;34m\u001b[0m\u001b[0m\n\u001b[0m\u001b[1;32m    551\u001b[0m       \u001b[0;32mreturn\u001b[0m \u001b[0mx\u001b[0m\u001b[0;34m.\u001b[0m\u001b[0mitem\u001b[0m\u001b[0;34m(\u001b[0m\u001b[0;34m)\u001b[0m \u001b[0;32mif\u001b[0m \u001b[0mnp\u001b[0m\u001b[0;34m.\u001b[0m\u001b[0mndim\u001b[0m\u001b[0;34m(\u001b[0m\u001b[0mx\u001b[0m\u001b[0;34m)\u001b[0m \u001b[0;34m==\u001b[0m \u001b[0;36m0\u001b[0m \u001b[0;32melse\u001b[0m \u001b[0mx\u001b[0m\u001b[0;34m\u001b[0m\u001b[0;34m\u001b[0m\u001b[0m\n\u001b[1;32m    552\u001b[0m     \u001b[0;32mreturn\u001b[0m \u001b[0mt\u001b[0m  \u001b[0;31m# Don't turn ragged or sparse tensors to NumPy.\u001b[0m\u001b[0;34m\u001b[0m\u001b[0;34m\u001b[0m\u001b[0m\n",
            "\u001b[0;32m/usr/local/lib/python3.7/dist-packages/tensorflow/python/framework/ops.py\u001b[0m in \u001b[0;36mnumpy\u001b[0;34m(self)\u001b[0m\n\u001b[1;32m   1147\u001b[0m     \"\"\"\n\u001b[1;32m   1148\u001b[0m     \u001b[0;31m# TODO(slebedev): Consider avoiding a copy for non-CPU or remote tensors.\u001b[0m\u001b[0;34m\u001b[0m\u001b[0;34m\u001b[0m\u001b[0;34m\u001b[0m\u001b[0m\n\u001b[0;32m-> 1149\u001b[0;31m     \u001b[0mmaybe_arr\u001b[0m \u001b[0;34m=\u001b[0m \u001b[0mself\u001b[0m\u001b[0;34m.\u001b[0m\u001b[0m_numpy\u001b[0m\u001b[0;34m(\u001b[0m\u001b[0;34m)\u001b[0m  \u001b[0;31m# pylint: disable=protected-access\u001b[0m\u001b[0;34m\u001b[0m\u001b[0;34m\u001b[0m\u001b[0m\n\u001b[0m\u001b[1;32m   1150\u001b[0m     \u001b[0;32mreturn\u001b[0m \u001b[0mmaybe_arr\u001b[0m\u001b[0;34m.\u001b[0m\u001b[0mcopy\u001b[0m\u001b[0;34m(\u001b[0m\u001b[0;34m)\u001b[0m \u001b[0;32mif\u001b[0m \u001b[0misinstance\u001b[0m\u001b[0;34m(\u001b[0m\u001b[0mmaybe_arr\u001b[0m\u001b[0;34m,\u001b[0m \u001b[0mnp\u001b[0m\u001b[0;34m.\u001b[0m\u001b[0mndarray\u001b[0m\u001b[0;34m)\u001b[0m \u001b[0;32melse\u001b[0m \u001b[0mmaybe_arr\u001b[0m\u001b[0;34m\u001b[0m\u001b[0;34m\u001b[0m\u001b[0m\n\u001b[1;32m   1151\u001b[0m \u001b[0;34m\u001b[0m\u001b[0m\n",
            "\u001b[0;32m/usr/local/lib/python3.7/dist-packages/tensorflow/python/framework/ops.py\u001b[0m in \u001b[0;36m_numpy\u001b[0;34m(self)\u001b[0m\n\u001b[1;32m   1113\u001b[0m   \u001b[0;32mdef\u001b[0m \u001b[0m_numpy\u001b[0m\u001b[0;34m(\u001b[0m\u001b[0mself\u001b[0m\u001b[0;34m)\u001b[0m\u001b[0;34m:\u001b[0m\u001b[0;34m\u001b[0m\u001b[0;34m\u001b[0m\u001b[0m\n\u001b[1;32m   1114\u001b[0m     \u001b[0;32mtry\u001b[0m\u001b[0;34m:\u001b[0m\u001b[0;34m\u001b[0m\u001b[0;34m\u001b[0m\u001b[0m\n\u001b[0;32m-> 1115\u001b[0;31m       \u001b[0;32mreturn\u001b[0m \u001b[0mself\u001b[0m\u001b[0;34m.\u001b[0m\u001b[0m_numpy_internal\u001b[0m\u001b[0;34m(\u001b[0m\u001b[0;34m)\u001b[0m\u001b[0;34m\u001b[0m\u001b[0;34m\u001b[0m\u001b[0m\n\u001b[0m\u001b[1;32m   1116\u001b[0m     \u001b[0;32mexcept\u001b[0m \u001b[0mcore\u001b[0m\u001b[0;34m.\u001b[0m\u001b[0m_NotOkStatusException\u001b[0m \u001b[0;32mas\u001b[0m \u001b[0me\u001b[0m\u001b[0;34m:\u001b[0m  \u001b[0;31m# pylint: disable=protected-access\u001b[0m\u001b[0;34m\u001b[0m\u001b[0;34m\u001b[0m\u001b[0m\n\u001b[1;32m   1117\u001b[0m       \u001b[0;32mraise\u001b[0m \u001b[0mcore\u001b[0m\u001b[0;34m.\u001b[0m\u001b[0m_status_to_exception\u001b[0m\u001b[0;34m(\u001b[0m\u001b[0me\u001b[0m\u001b[0;34m)\u001b[0m \u001b[0;32mfrom\u001b[0m \u001b[0;32mNone\u001b[0m  \u001b[0;31m# pylint: disable=protected-access\u001b[0m\u001b[0;34m\u001b[0m\u001b[0;34m\u001b[0m\u001b[0m\n",
            "\u001b[0;31mKeyboardInterrupt\u001b[0m: "
          ]
        }
      ]
    },
    {
      "cell_type": "code",
      "metadata": {
        "id": "GAORk5GBSjFs"
      },
      "source": [
        ""
      ],
      "execution_count": null,
      "outputs": []
    },
    {
      "cell_type": "code",
      "metadata": {
        "id": "Rmw3kwf2SjFs"
      },
      "source": [
        ""
      ],
      "execution_count": null,
      "outputs": []
    }
  ]
}