{
  "nbformat": 4,
  "nbformat_minor": 0,
  "metadata": {
    "colab": {
      "name": "TF2_Quickstart_beginners.ipynb",
      "provenance": [],
      "authorship_tag": "ABX9TyPcuxxzqYHmaYwtxMMtqBke"
    },
    "kernelspec": {
      "name": "python3",
      "display_name": "Python 3"
    },
    "language_info": {
      "name": "python"
    }
  },
  "cells": [
    {
      "cell_type": "code",
      "metadata": {
        "id": "BvFWBSEKjCmJ"
      },
      "source": [
        "import tensorflow as tf"
      ],
      "execution_count": 1,
      "outputs": []
    },
    {
      "cell_type": "markdown",
      "metadata": {
        "id": "fMWMBLPAkacp"
      },
      "source": [
        "Chargement du dataset MNIST (handwritten digits), cf [MNIST handwritten digit database](https://http://yann.lecun.com/exdb/mnist/)"
      ]
    },
    {
      "cell_type": "code",
      "metadata": {
        "id": "4TghSUwbjJqW"
      },
      "source": [
        "mnist = tf.keras.datasets.mnist\n",
        "(x_train, y_train), (x_test, y_test) = mnist.load_data()\n",
        "x_train, x_test = x_train / 255.0, x_test / 255.0 \n",
        "# Les 2 ensembles : d'apprentissage & de test"
      ],
      "execution_count": 2,
      "outputs": []
    },
    {
      "cell_type": "markdown",
      "metadata": {
        "id": "QKvrrv6ckwhw"
      },
      "source": [
        "Construction d'un modèle séquentiel (perceptron multi-couches)\n"
      ]
    },
    {
      "cell_type": "code",
      "metadata": {
        "id": "nkz7guZzjcs5"
      },
      "source": [
        "model = tf.keras.models.Sequential([\n",
        "  tf.keras.layers.Flatten(input_shape=(28, 28)), # lignes bout à bout (vecteurs de pixels simple de dim 28*28)\n",
        "  tf.keras.layers.Dense(128, activation='relu'), # 128 neurones de la deuxième couche (dense = interconnexion à tous les neurones d'entrée) => calcule act(w^t*x) \n",
        "  tf.keras.layers.Dropout(0.2), # Taux d'activation aléatoire\n",
        "  tf.keras.layers.Dense(10) # couche de sortie (le nombre predict)\n",
        "])"
      ],
      "execution_count": 3,
      "outputs": []
    },
    {
      "cell_type": "markdown",
      "metadata": {
        "id": "nOCQvD29mnpb"
      },
      "source": [
        "Point sur les fonctions d'activation et les couches denses : [Medium](https://medium.com/datathings/dense-layers-explained-in-a-simple-way-62fe1db0ed75)\n",
        "$$ \n",
        "Relu(x) = max(0,x) \n",
        "$$"
      ]
    },
    {
      "cell_type": "code",
      "metadata": {
        "colab": {
          "base_uri": "https://localhost:8080/"
        },
        "id": "wN_cjPNtjrqg",
        "outputId": "c775a963-8b05-4d79-fb24-c07f12d08841"
      },
      "source": [
        "predictions = model(x_train[:1]).numpy()\n",
        "predictions"
      ],
      "execution_count": 4,
      "outputs": [
        {
          "output_type": "execute_result",
          "data": {
            "text/plain": [
              "array([[-0.44476116,  0.09657557, -0.38829654, -0.2726937 ,  0.15289758,\n",
              "         0.11602432,  0.4824928 ,  0.6147514 , -0.7359195 ,  1.0290267 ]],\n",
              "      dtype=float32)"
            ]
          },
          "metadata": {},
          "execution_count": 4
        }
      ]
    },
    {
      "cell_type": "markdown",
      "metadata": {
        "id": "7N7PJhFcot8r"
      },
      "source": [
        "Pour chaque exemple, le modèle retourne un vecteur de \"log-odds\", une pour chaque classe (chaque chiffre)\n"
      ]
    },
    {
      "cell_type": "code",
      "metadata": {
        "colab": {
          "base_uri": "https://localhost:8080/"
        },
        "id": "zuzclqf2jyZK",
        "outputId": "42d87b78-db29-4f1f-c11b-2a10493dd2ab"
      },
      "source": [
        "tf.nn.softmax(predictions).numpy()\n"
      ],
      "execution_count": 5,
      "outputs": [
        {
          "output_type": "execute_result",
          "data": {
            "text/plain": [
              "array([[0.05246667, 0.0901536 , 0.05551442, 0.06231771, 0.09537695,\n",
              "        0.09192413, 0.1326126 , 0.15136448, 0.03921345, 0.2290559 ]],\n",
              "      dtype=float32)"
            ]
          },
          "metadata": {},
          "execution_count": 5
        }
      ]
    },
    {
      "cell_type": "markdown",
      "metadata": {
        "id": "sfMXYLpAo_ZA"
      },
      "source": [
        "=> Probas pour chaque classe"
      ]
    },
    {
      "cell_type": "code",
      "metadata": {
        "id": "Xr38ajYXj4s9"
      },
      "source": [
        "loss_fn = tf.keras.losses.SparseCategoricalCrossentropy(from_logits=True)"
      ],
      "execution_count": 6,
      "outputs": []
    },
    {
      "cell_type": "markdown",
      "metadata": {
        "id": "jKBbW1epqe86"
      },
      "source": [
        "Fonction de perte : Entropie croisée "
      ]
    },
    {
      "cell_type": "code",
      "metadata": {
        "colab": {
          "base_uri": "https://localhost:8080/"
        },
        "id": "jQ3Hp8idqa1a",
        "outputId": "9b828f15-71be-44a3-ebe7-100384544249"
      },
      "source": [
        "loss_fn(y_train[:1], predictions).numpy()\n",
        "\n"
      ],
      "execution_count": 7,
      "outputs": [
        {
          "output_type": "execute_result",
          "data": {
            "text/plain": [
              "2.3867917"
            ]
          },
          "metadata": {},
          "execution_count": 7
        }
      ]
    },
    {
      "cell_type": "markdown",
      "metadata": {
        "id": "Dw6xIwTCmzkd"
      },
      "source": [
        "Entropie croisée : $-log(p)$ où $p$ la probabilité de la classe correcte. Sur le modèle non entrainé, les probas sont proches de l'uniforme ($p = \\frac{1}{10}$), d'où la proba proche de $-log(1/10) \\approx 2.3$"
      ]
    },
    {
      "cell_type": "code",
      "metadata": {
        "id": "B4W5j3sWnEBD"
      },
      "source": [
        "model.compile(optimizer='adam',\n",
        "              loss=loss_fn,\n",
        "              metrics=['accuracy']) # Mesure de la précision"
      ],
      "execution_count": 8,
      "outputs": []
    },
    {
      "cell_type": "code",
      "metadata": {
        "colab": {
          "base_uri": "https://localhost:8080/"
        },
        "id": "TV8ny8LbnGtT",
        "outputId": "b4739740-c174-4961-bb2a-ca35e8229b04"
      },
      "source": [
        "model.fit(x_train, y_train, epochs=5) \n",
        "# On entraîne le modèle sur les données d'entrainement (epochs = itérations) \n"
      ],
      "execution_count": 9,
      "outputs": [
        {
          "output_type": "stream",
          "name": "stdout",
          "text": [
            "Epoch 1/5\n",
            "1875/1875 [==============================] - 4s 2ms/step - loss: 0.2964 - accuracy: 0.9141\n",
            "Epoch 2/5\n",
            "1875/1875 [==============================] - 3s 2ms/step - loss: 0.1425 - accuracy: 0.9576\n",
            "Epoch 3/5\n",
            "1875/1875 [==============================] - 3s 2ms/step - loss: 0.1087 - accuracy: 0.9671\n",
            "Epoch 4/5\n",
            "1875/1875 [==============================] - 3s 2ms/step - loss: 0.0914 - accuracy: 0.9723\n",
            "Epoch 5/5\n",
            "1875/1875 [==============================] - 3s 2ms/step - loss: 0.0760 - accuracy: 0.9764\n"
          ]
        },
        {
          "output_type": "execute_result",
          "data": {
            "text/plain": [
              "<keras.callbacks.History at 0x7f5c3f93b1d0>"
            ]
          },
          "metadata": {},
          "execution_count": 9
        }
      ]
    },
    {
      "cell_type": "code",
      "metadata": {
        "colab": {
          "base_uri": "https://localhost:8080/"
        },
        "id": "uCqnkbcBnWJc",
        "outputId": "05ab0606-8aa9-4f1f-f348-3f9bca839688"
      },
      "source": [
        "model.evaluate(x_test,  y_test, verbose=2) # On teste le modèle sur des données qu'il n'a jamais vu\n",
        "\n"
      ],
      "execution_count": 10,
      "outputs": [
        {
          "output_type": "stream",
          "name": "stdout",
          "text": [
            "313/313 - 0s - loss: 0.0733 - accuracy: 0.9768\n"
          ]
        },
        {
          "output_type": "execute_result",
          "data": {
            "text/plain": [
              "[0.07330185174942017, 0.9768000245094299]"
            ]
          },
          "metadata": {},
          "execution_count": 10
        }
      ]
    },
    {
      "cell_type": "code",
      "metadata": {
        "id": "CjYxs4kXrXhs"
      },
      "source": [
        "probability_model = tf.keras.Sequential([\n",
        "  model,\n",
        "  tf.keras.layers.Softmax()\n",
        "])\n"
      ],
      "execution_count": 11,
      "outputs": []
    },
    {
      "cell_type": "markdown",
      "metadata": {
        "id": "rACsSwP9rcd3"
      },
      "source": [
        "On utilise la fonction [softmax](https://fr.wikipedia.org/wiki/Fonction_softmax) pour que le modèle retourne une probabilité"
      ]
    },
    {
      "cell_type": "code",
      "metadata": {
        "colab": {
          "base_uri": "https://localhost:8080/"
        },
        "id": "SRFafdTPrmyF",
        "outputId": "7f11cbe0-5aab-4e34-f7ec-48ee652afb83"
      },
      "source": [
        "probability_model(x_test[:5])\n"
      ],
      "execution_count": 12,
      "outputs": [
        {
          "output_type": "execute_result",
          "data": {
            "text/plain": [
              "<tf.Tensor: shape=(5, 10), dtype=float32, numpy=\n",
              "array([[3.3363889e-08, 5.3988245e-09, 6.8073530e-07, 6.2287356e-05,\n",
              "        1.7633494e-11, 1.2202025e-07, 7.1811318e-14, 9.9991417e-01,\n",
              "        1.5015533e-07, 2.2532047e-05],\n",
              "       [3.5826175e-09, 1.6559721e-05, 9.9995804e-01, 2.1591317e-05,\n",
              "        3.7178434e-13, 3.2382434e-07, 4.1306287e-09, 4.0601131e-15,\n",
              "        3.4084676e-06, 5.2895436e-14],\n",
              "       [3.7220278e-07, 9.9891746e-01, 6.6548208e-05, 3.0060276e-06,\n",
              "        7.7427532e-05, 7.2771850e-06, 3.0370951e-05, 8.1941491e-04,\n",
              "        7.7489800e-05, 7.9428474e-07],\n",
              "       [9.9967003e-01, 4.5913556e-08, 4.8620554e-05, 2.8363741e-07,\n",
              "        1.6970838e-06, 6.9490111e-06, 2.4787910e-04, 2.3527671e-05,\n",
              "        6.3821757e-09, 9.3300139e-07],\n",
              "       [8.5695530e-07, 1.4706056e-08, 9.8476494e-07, 1.4861707e-08,\n",
              "        9.9858677e-01, 2.2356805e-07, 1.4700519e-06, 2.6844064e-05,\n",
              "        1.3637518e-06, 1.3814239e-03]], dtype=float32)>"
            ]
          },
          "metadata": {},
          "execution_count": 12
        }
      ]
    }
  ]
}