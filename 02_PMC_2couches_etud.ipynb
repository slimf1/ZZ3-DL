{
  "nbformat": 4,
  "nbformat_minor": 0,
  "metadata": {
    "accelerator": "GPU",
    "anaconda-cloud": {},
    "colab": {
      "name": "02-PMC_2couches-etud.ipynb",
      "provenance": [],
      "collapsed_sections": [],
      "include_colab_link": true
    },
    "kernelspec": {
      "display_name": "Python 3.8.5 64-bit",
      "language": "python",
      "name": "python_defaultSpec_1596206907464"
    },
    "language_info": {
      "codemirror_mode": {
        "name": "ipython",
        "version": 3
      },
      "file_extension": ".py",
      "mimetype": "text/x-python",
      "name": "python",
      "nbconvert_exporter": "python",
      "pygments_lexer": "ipython3",
      "version": "3.8.5-final"
    }
  },
  "cells": [
    {
      "cell_type": "markdown",
      "metadata": {
        "id": "view-in-github",
        "colab_type": "text"
      },
      "source": [
        "<a href=\"https://colab.research.google.com/github/slimf1/ZZ3-DL/blob/main/02_PMC_2couches_etud.ipynb\" target=\"_parent\"><img src=\"https://colab.research.google.com/assets/colab-badge.svg\" alt=\"Open In Colab\"/></a>"
      ]
    },
    {
      "cell_type": "markdown",
      "metadata": {
        "id": "FRrEHdz-Sg2J"
      },
      "source": [
        "# Perceptron multicouches et Keras\n",
        "\n",
        "Définition d'un perceptron multicouches à deux couches cachées pour la classification de données MNIST\n"
      ]
    },
    {
      "cell_type": "markdown",
      "metadata": {
        "id": "bnyEIdlLSg2O"
      },
      "source": [
        "## MNIST \n",
        "\n",
        "La base de données MNIST (Mixed National Institute of Standards and Technology), est une base de données de chiffres manuscrits. C’est une base de données standard pour le test de nouveaux algorithmes de reconnaissance de ces chiffres. Elle est composée de 60000 images d’apprentissage et 10000 images de test. Les images en noir et blanc, normalisées centrées de 28 pixels de côté.\n",
        "\n",
        "![mnist.png](./mnist.png)\n",
        "\n",
        "\n"
      ]
    },
    {
      "cell_type": "markdown",
      "metadata": {
        "id": "sf7yFJVgSg2Q"
      },
      "source": [
        "# Import"
      ]
    },
    {
      "cell_type": "code",
      "metadata": {
        "id": "3KEROE5WSg2Q",
        "colab": {
          "base_uri": "https://localhost:8080/",
          "height": 35
        },
        "outputId": "578b79f6-e2e3-4819-88b9-f270f7797c79"
      },
      "source": [
        "import numpy as np\n",
        "import matplotlib.pyplot as plt\n",
        "import tensorflow.keras as tk\n",
        "from tensorflow.keras import Sequential\n",
        "\n",
        "\n",
        "from tensorflow.keras.layers import Input, Dense, Activation, Lambda\n",
        "from tensorflow.keras.models import Model\n",
        "\n",
        "from tensorflow.keras.optimizers import Adam\n",
        "\n",
        "\"\"\"If you have two or more classes and  the labels are integers, the SparseCategoricalCrossentropy should be used. \n",
        "https://neptune.ai/blog/keras-loss-functions \"\"\""
      ],
      "execution_count": 1,
      "outputs": [
        {
          "output_type": "execute_result",
          "data": {
            "application/vnd.google.colaboratory.intrinsic+json": {
              "type": "string"
            },
            "text/plain": [
              "'If you have two or more classes and  the labels are integers, the SparseCategoricalCrossentropy should be used. \\nhttps://neptune.ai/blog/keras-loss-functions '"
            ]
          },
          "metadata": {},
          "execution_count": 1
        }
      ]
    },
    {
      "cell_type": "markdown",
      "metadata": {
        "id": "LKYSiEF7Sg2S"
      },
      "source": [
        "# Données"
      ]
    },
    {
      "cell_type": "markdown",
      "metadata": {
        "id": "znVhOnHkSg2S"
      },
      "source": [
        "On charge ensuite les données MNIST. Les paramètres de la base sont récupérés (nombre d'exemples, de classes, taille de la rétine)."
      ]
    },
    {
      "cell_type": "code",
      "metadata": {
        "colab": {
          "base_uri": "https://localhost:8080/"
        },
        "id": "5pVV4QOkSg2T",
        "outputId": "e0297aa5-fe85-4c73-e5f0-753d04fc41ac"
      },
      "source": [
        "(x_train, y_train), (x_test, y_test) =tk.datasets.mnist.load_data()\n",
        "\n",
        "num_examples = x_train.shape[0] \n",
        "num_test = x_test.shape[0]\n",
        "num_input = x_train.shape[1]*x_train.shape[2]\n",
        "num_classes = 10\n",
        "\n",
        "img_size = x_train.shape[1] \n",
        "img_shape = (img_size, img_size)\n",
        "\n",
        "x_train = x_train.reshape((num_examples, num_input))/255\n",
        "x_test  = x_test.reshape((num_test, num_input))/255\n",
        "\n",
        "# normalisation\n",
        "\n",
        "\n",
        "\n",
        "print('Taille de la rétine : ',num_input)\n",
        "print(\"Nombre d'exemples : \",num_examples)\n",
        "\n",
        "y_train = tk.utils.to_categorical(y_train, num_classes)\n",
        "y_test = tk.utils.to_categorical(y_test, num_classes)\n",
        "\n",
        "print(x_train.shape)\n"
      ],
      "execution_count": 2,
      "outputs": [
        {
          "output_type": "stream",
          "name": "stdout",
          "text": [
            "Taille de la rétine :  784\n",
            "Nombre d'exemples :  60000\n",
            "(60000, 784)\n"
          ]
        }
      ]
    },
    {
      "cell_type": "markdown",
      "metadata": {
        "id": "tsT_lQTISg2V"
      },
      "source": [
        "# Réseau"
      ]
    },
    {
      "cell_type": "markdown",
      "metadata": {
        "id": "pW7EMyamSg2V"
      },
      "source": [
        "## Paramètres du réseau"
      ]
    },
    {
      "cell_type": "markdown",
      "metadata": {
        "id": "-WejqfiwSg2W"
      },
      "source": [
        "Dans un premier temps, on définit les paramètres du réseau : \n",
        "- 256 neurones cachés dans chaque couche cachée, \n",
        "- un apprentissage par batchs de taille 100\n",
        "- 15 itérations pour l'apprentissage\n"
      ]
    },
    {
      "cell_type": "code",
      "metadata": {
        "id": "gB8r27bjSg2W"
      },
      "source": [
        "\n",
        "lr = 0.001\n",
        "num_epochs = 15\n",
        "batch_size = 100\n",
        "\n",
        "# Nombre de neurones sur les deux couches cachées\n",
        "num_hidden_1 = 256 \n",
        "num_hidden_2 = 256 "
      ],
      "execution_count": 3,
      "outputs": []
    },
    {
      "cell_type": "markdown",
      "metadata": {
        "id": "iLhqBTaTSg2X"
      },
      "source": [
        "## Définition du réseau"
      ]
    },
    {
      "cell_type": "markdown",
      "metadata": {
        "id": "4QNAI2D_Sg2X"
      },
      "source": [
        "On construit alors le modèle :\n",
        "- le réseau\n",
        "- la fonction de coût à optimiser : dans le cas d'un problème de classification, la fonction d'entropie croisée calculée entre la sortie théorique et la sortie calculée par le modèle est adéquate\n",
        "- la méthode d'optimisation utilisée (descente de gradient) : ici, l'algorithme [ADAM](https://arxiv.org/abs/1412.6980) est utilisé"
      ]
    },
    {
      "cell_type": "code",
      "metadata": {
        "colab": {
          "base_uri": "https://localhost:8080/"
        },
        "id": "Omn1FO6cSg2Y",
        "outputId": "168aad72-a965-4c4b-dfa9-803cf7931572"
      },
      "source": [
        "\n",
        "# Modèle #1 => bons résultats (99% acc) | categorical_crossentropy\n",
        "# model = Sequential()\n",
        "# model.add(Dense(784, input_dim=784, activation=\"relu\"))\n",
        "# model.add(Dense(10, activation='softmax'))\n",
        "\n",
        "# Modèle #2\n",
        "model = Sequential()\n",
        "model.add(Input(shape=(784, )))\n",
        "model.add(Dense(num_hidden_1, activation='relu'))\n",
        "model.add(Dense(num_hidden_2, activation='relu'))\n",
        "model.add(Dense(10, activation='softmax'))\n",
        "\n",
        "model.summary()"
      ],
      "execution_count": 4,
      "outputs": [
        {
          "output_type": "stream",
          "name": "stdout",
          "text": [
            "Model: \"sequential\"\n",
            "_________________________________________________________________\n",
            "Layer (type)                 Output Shape              Param #   \n",
            "=================================================================\n",
            "dense (Dense)                (None, 256)               200960    \n",
            "_________________________________________________________________\n",
            "dense_1 (Dense)              (None, 256)               65792     \n",
            "_________________________________________________________________\n",
            "dense_2 (Dense)              (None, 10)                2570      \n",
            "=================================================================\n",
            "Total params: 269,322\n",
            "Trainable params: 269,322\n",
            "Non-trainable params: 0\n",
            "_________________________________________________________________\n"
          ]
        }
      ]
    },
    {
      "cell_type": "code",
      "metadata": {
        "id": "YiJEPA2ASg2Y"
      },
      "source": [
        "opt = Adam(learning_rate=lr) # Rôle de l'optimizer par rapport à la fonction de perte ?\n",
        "\n",
        "model.compile(\n",
        "    optimizer=opt,\n",
        "    loss=\"categorical_crossentropy\",\n",
        "    metrics=[\"acc\"]\n",
        ")"
      ],
      "execution_count": 5,
      "outputs": []
    },
    {
      "cell_type": "markdown",
      "metadata": {
        "id": "pwkFqDsBSg2Y"
      },
      "source": [
        "On entraîne le modèle"
      ]
    },
    {
      "cell_type": "code",
      "metadata": {
        "id": "PdORb0HQSg2Z",
        "colab": {
          "base_uri": "https://localhost:8080/"
        },
        "outputId": "3ce6ff11-cd32-4c2f-dbc2-d7672b3204a1"
      },
      "source": [
        "hist = model.fit(x_train, y_train, epochs=num_epochs) "
      ],
      "execution_count": 6,
      "outputs": [
        {
          "output_type": "stream",
          "name": "stdout",
          "text": [
            "Epoch 1/15\n",
            "1875/1875 [==============================] - 7s 3ms/step - loss: 0.2003 - acc: 0.9391\n",
            "Epoch 2/15\n",
            "1875/1875 [==============================] - 6s 3ms/step - loss: 0.0860 - acc: 0.9733\n",
            "Epoch 3/15\n",
            "1875/1875 [==============================] - 6s 3ms/step - loss: 0.0580 - acc: 0.9817\n",
            "Epoch 4/15\n",
            "1875/1875 [==============================] - 6s 3ms/step - loss: 0.0423 - acc: 0.9868\n",
            "Epoch 5/15\n",
            "1875/1875 [==============================] - 6s 3ms/step - loss: 0.0352 - acc: 0.9884\n",
            "Epoch 6/15\n",
            "1875/1875 [==============================] - 6s 3ms/step - loss: 0.0285 - acc: 0.9904\n",
            "Epoch 7/15\n",
            "1875/1875 [==============================] - 6s 3ms/step - loss: 0.0242 - acc: 0.9919\n",
            "Epoch 8/15\n",
            "1875/1875 [==============================] - 6s 3ms/step - loss: 0.0225 - acc: 0.9926\n",
            "Epoch 9/15\n",
            "1875/1875 [==============================] - 6s 3ms/step - loss: 0.0179 - acc: 0.9941\n",
            "Epoch 10/15\n",
            "1875/1875 [==============================] - 6s 3ms/step - loss: 0.0187 - acc: 0.9940\n",
            "Epoch 11/15\n",
            "1875/1875 [==============================] - 6s 3ms/step - loss: 0.0163 - acc: 0.9947\n",
            "Epoch 12/15\n",
            "1875/1875 [==============================] - 6s 3ms/step - loss: 0.0140 - acc: 0.9954\n",
            "Epoch 13/15\n",
            "1875/1875 [==============================] - 6s 3ms/step - loss: 0.0137 - acc: 0.9955\n",
            "Epoch 14/15\n",
            "1875/1875 [==============================] - 6s 3ms/step - loss: 0.0124 - acc: 0.9963\n",
            "Epoch 15/15\n",
            "1875/1875 [==============================] - 6s 3ms/step - loss: 0.0120 - acc: 0.9963\n"
          ]
        }
      ]
    },
    {
      "cell_type": "code",
      "metadata": {
        "colab": {
          "base_uri": "https://localhost:8080/"
        },
        "id": "nYKDedw9Sg2Z",
        "outputId": "e4b6739f-0aa7-4c63-93b2-89e775ff43b2"
      },
      "source": [
        "print(\"Précision ={0:5.3f} \".format(hist.history.get('acc')[-1]))"
      ],
      "execution_count": 7,
      "outputs": [
        {
          "output_type": "stream",
          "name": "stdout",
          "text": [
            "Précision =0.996 \n"
          ]
        }
      ]
    },
    {
      "cell_type": "markdown",
      "metadata": {
        "id": "R-HXfyliSg2a"
      },
      "source": [
        "Puis on l'évalue sur l'ensemble de test "
      ]
    },
    {
      "cell_type": "code",
      "metadata": {
        "colab": {
          "base_uri": "https://localhost:8080/",
          "height": 1000
        },
        "id": "o4_UknDKSg2a",
        "outputId": "5725141f-d3dc-4175-890c-dc18a2d52b74"
      },
      "source": [
        "score = model.evaluate(x_test,y_test)\n",
        "\n",
        "x = list(range(1,num_epochs+1))\n",
        "l = hist.history['loss']\n",
        "plt.subplots(1,1)\n",
        "plt.xlabel('epoch')\n",
        "plt.ylabel('Entropie croisée')\n",
        "plt.title(\"Test : Score = {0:5.3f}, Précision = {1:5.3f}\".format(score[0], score[1]))\n",
        "plt.plot(x,l)\n",
        "plt.show()\n",
        "plt.tight_layout()\n",
        "\n",
        "predicted_classes = np.argmax(model.predict(x_test), axis=-1)\n",
        "y = np.argmax(y_test,axis=1)\n",
        "\n",
        "incorrects = np.nonzero(predicted_classes != y)[0]\n",
        "plt.figure(figsize=(10,10))\n",
        "for i in range(0,9):\n",
        "    plt.subplot(3,3,i+1)\n",
        "    plt.imshow(x_test[incorrects[i]].reshape(28,28), cmap='gray', interpolation='none')\n",
        "    plt.title( \"Prédit/vrai : {}/{}\".format(predicted_classes[incorrects[i]], y[incorrects[i]]))\n",
        "    plt.xticks([])\n",
        "    plt.yticks([])\n",
        "plt.tight_layout()\n",
        "print(\"Nombre d'erreurs {}/{}\\n\\n\".format(incorrects.size,y.size))\n"
      ],
      "execution_count": 8,
      "outputs": [
        {
          "output_type": "stream",
          "name": "stdout",
          "text": [
            "313/313 [==============================] - 1s 3ms/step - loss: 0.1107 - acc: 0.9805\n"
          ]
        },
        {
          "output_type": "display_data",
          "data": {
            "image/png": "[encoded data removed]",
            "text/plain": [
              "<Figure size 432x288 with 1 Axes>"
            ]
          },
          "metadata": {
            "needs_background": "light"
          }
        },
        {
          "output_type": "stream",
          "name": "stdout",
          "text": [
            "Nombre d'erreurs 195/10000\n",
            "\n",
            "\n"
          ]
        },
        {
          "output_type": "display_data",
          "data": {
            "text/plain": [
              "<Figure size 432x288 with 0 Axes>"
            ]
          },
          "metadata": {}
        },
        {
          "output_type": "display_data",
          "data": {
            "image/png": "[encoded data removed]",
            "text/plain": [
              "<Figure size 720x720 with 9 Axes>"
            ]
          },
          "metadata": {}
        }
      ]
    }
  ]
}