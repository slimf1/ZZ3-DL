{
  "nbformat": 4,
  "nbformat_minor": 0,
  "metadata": {
    "accelerator": "GPU",
    "anaconda-cloud": {},
    "colab": {
      "name": "02-PMC_2couches-etud.ipynb",
      "provenance": [],
      "collapsed_sections": [],
      "include_colab_link": true
    },
    "kernelspec": {
      "display_name": "Python 3.8.5 64-bit",
      "language": "python",
      "name": "python_defaultSpec_1596206907464"
    },
    "language_info": {
      "codemirror_mode": {
        "name": "ipython",
        "version": 3
      },
      "file_extension": ".py",
      "mimetype": "text/x-python",
      "name": "python",
      "nbconvert_exporter": "python",
      "pygments_lexer": "ipython3",
      "version": "3.8.5-final"
    }
  },
  "cells": [
    {
      "cell_type": "markdown",
      "metadata": {
        "id": "view-in-github",
        "colab_type": "text"
      },
      "source": [
        "<a href=\"https://colab.research.google.com/github/slimf1/ZZ3-DL/blob/main/02_PMC_2couches_etud.ipynb\" target=\"_parent\"><img src=\"https://colab.research.google.com/assets/colab-badge.svg\" alt=\"Open In Colab\"/></a>"
      ]
    },
    {
      "cell_type": "markdown",
      "metadata": {
        "id": "FRrEHdz-Sg2J"
      },
      "source": [
        "# Perceptron multicouches et Keras\n",
        "\n",
        "Définition d'un perceptron multicouches à deux couches cachées pour la classification de données MNIST\n"
      ]
    },
    {
      "cell_type": "markdown",
      "metadata": {
        "id": "bnyEIdlLSg2O"
      },
      "source": [
        "## MNIST \n",
        "\n",
        "La base de données MNIST (Mixed National Institute of Standards and Technology), est une base de données de chiffres manuscrits. C’est une base de données standard pour le test de nouveaux algorithmes de reconnaissance de ces chiffres. Elle est composée de 60000 images d’apprentissage et 10000 images de test. Les images en noir et blanc, normalisées centrées de 28 pixels de côté.\n",
        "\n",
        "![mnist.png](./mnist.png)\n",
        "\n",
        "\n"
      ]
    },
    {
      "cell_type": "markdown",
      "metadata": {
        "id": "sf7yFJVgSg2Q"
      },
      "source": [
        "# Import"
      ]
    },
    {
      "cell_type": "code",
      "metadata": {
        "id": "3KEROE5WSg2Q"
      },
      "source": [
        "import numpy as np\n",
        "import matplotlib.pyplot as plt\n",
        "import tensorflow.keras as tk\n",
        "from tensorflow.keras import Sequential\n",
        "\n",
        "\n",
        "from tensorflow.keras.layers import Input, Dense, Activation, Lambda\n",
        "from tensorflow.keras.models import Model\n",
        "\n",
        "from tensorflow.keras.optimizers import Adam\n",
        "\n",
        "# Ajoutée (pour sparse) \"\"If you have two or more classes and  the labels are integers, the SparseCategoricalCrossentropy should be used. \"\"\n",
        "#https://neptune.ai/blog/keras-loss-functions\n",
        "from tensorflow.keras.layers import Flatten\n",
        "from tensorflow.keras.losses import SparseCategoricalCrossentropy\n",
        "from tensorflow.keras.metrics import SparseCategoricalAccuracy\n",
        "import tensorflow as tf"
      ],
      "execution_count": 11,
      "outputs": []
    },
    {
      "cell_type": "markdown",
      "metadata": {
        "id": "LKYSiEF7Sg2S"
      },
      "source": [
        "# Données"
      ]
    },
    {
      "cell_type": "markdown",
      "metadata": {
        "id": "znVhOnHkSg2S"
      },
      "source": [
        "On charge ensuite les données MNIST. Les paramètres de la base sont récupérés (nombre d'exemples, de classes, taille de la rétine)."
      ]
    },
    {
      "cell_type": "code",
      "metadata": {
        "colab": {
          "base_uri": "https://localhost:8080/"
        },
        "id": "5pVV4QOkSg2T",
        "outputId": "7f943d66-74ee-46d1-9998-220e1e3e50a1"
      },
      "source": [
        "(x_train, y_train), (x_test, y_test) =tk.datasets.mnist.load_data()\n",
        "\n",
        "num_examples = x_train.shape[0] \n",
        "num_test = x_test.shape[0]\n",
        "num_input = x_train.shape[1]*x_train.shape[2]\n",
        "num_classes = 10\n",
        "\n",
        "img_size = x_train.shape[1] \n",
        "img_shape = (img_size, img_size)\n",
        "\n",
        "x_train = x_train.reshape((num_examples, num_input))/255\n",
        "x_test  = x_test.reshape((num_test, num_input))/255\n",
        "\n",
        "# normalisation\n",
        "\n",
        "\n",
        "\n",
        "print('Taille de la rétine : ',num_input)\n",
        "print(\"Nombre d'exemples : \",num_examples)\n",
        "\n",
        "y_train = tk.utils.to_categorical(y_train, num_classes)\n",
        "y_test = tk.utils.to_categorical(y_test, num_classes)\n",
        "\n",
        "print(x_train.shape)\n"
      ],
      "execution_count": 12,
      "outputs": [
        {
          "output_type": "stream",
          "name": "stdout",
          "text": [
            "Taille de la rétine :  784\n",
            "Nombre d'exemples :  60000\n",
            "(60000, 784)\n"
          ]
        }
      ]
    },
    {
      "cell_type": "markdown",
      "metadata": {
        "id": "tsT_lQTISg2V"
      },
      "source": [
        "# Réseau"
      ]
    },
    {
      "cell_type": "markdown",
      "metadata": {
        "id": "pW7EMyamSg2V"
      },
      "source": [
        "## Paramètres du réseau"
      ]
    },
    {
      "cell_type": "markdown",
      "metadata": {
        "id": "-WejqfiwSg2W"
      },
      "source": [
        "Dans un premier temps, on définit les paramètres du réseau : \n",
        "- 256 neurones cachés dans chaque couche cachée, \n",
        "- un apprentissage par batchs de taille 100\n",
        "- 15 itérations pour l'apprentissage\n"
      ]
    },
    {
      "cell_type": "code",
      "metadata": {
        "id": "gB8r27bjSg2W"
      },
      "source": [
        "\n",
        "lr = 0.001\n",
        "num_epochs = 15\n",
        "batch_size = 100\n",
        "\n",
        "# Nombre de neurones sur les deux couches cachées\n",
        "num_hidden_1 = 256 \n",
        "num_hidden_2 = 256 "
      ],
      "execution_count": 13,
      "outputs": []
    },
    {
      "cell_type": "markdown",
      "metadata": {
        "id": "iLhqBTaTSg2X"
      },
      "source": [
        "## Définition du réseau"
      ]
    },
    {
      "cell_type": "markdown",
      "metadata": {
        "id": "4QNAI2D_Sg2X"
      },
      "source": [
        "On construit alors le modèle :\n",
        "- le réseau\n",
        "- la fonction de coût à optimiser : dans le cas d'un problème de classification, la fonction d'entropie croisée calculée entre la sortie théorique et la sortie calculée par le modèle est adéquate\n",
        "- la méthode d'optimisation utilisée (descente de gradient) : ici, l'algorithme [ADAM](https://arxiv.org/abs/1412.6980) est utilisé"
      ]
    },
    {
      "cell_type": "code",
      "metadata": {
        "colab": {
          "base_uri": "https://localhost:8080/"
        },
        "id": "Omn1FO6cSg2Y",
        "outputId": "651a9f4b-f677-499f-c820-9d0d57f64c81"
      },
      "source": [
        "\n",
        "# Modèle #1 => bons résultats (99% acc) | categorical_crossentropy\n",
        "# model = Sequential()\n",
        "# model.add(Dense(784, input_dim=784, activation=\"relu\"))\n",
        "# model.add(Dense(10, activation='softmax'))\n",
        "\n",
        "# Modèle #2\n",
        "model = Sequential()\n",
        "model.add(Input(shape=(784, ), batch_size=batch_size))\n",
        "model.add(Dense(num_hidden_1, activation='relu'))\n",
        "model.add(Dense(num_hidden_2, activation='relu'))\n",
        "model.add(Dense(10, activation='softmax'))\n",
        "\n",
        "#model.add(Flatten(input_shape=(28, 28)))\n",
        "# model.add(Dense(num_hidden_1, activation=\"relu\"))\n",
        "# model.add(Dense(num_hidden_2, activation=\"tanh\"))\n",
        "# model.add(Flatten())\n",
        "# model.add(Dense(10))\n",
        "\n",
        "model.summary()"
      ],
      "execution_count": 24,
      "outputs": [
        {
          "output_type": "stream",
          "name": "stdout",
          "text": [
            "Model: \"sequential_6\"\n",
            "_________________________________________________________________\n",
            "Layer (type)                 Output Shape              Param #   \n",
            "=================================================================\n",
            "dense_9 (Dense)              (100, 256)                200960    \n",
            "_________________________________________________________________\n",
            "dense_10 (Dense)             (100, 256)                65792     \n",
            "_________________________________________________________________\n",
            "dense_11 (Dense)             (100, 10)                 2570      \n",
            "=================================================================\n",
            "Total params: 269,322\n",
            "Trainable params: 269,322\n",
            "Non-trainable params: 0\n",
            "_________________________________________________________________\n"
          ]
        }
      ]
    },
    {
      "cell_type": "code",
      "metadata": {
        "id": "YiJEPA2ASg2Y"
      },
      "source": [
        "opt = Adam(learning_rate=lr) # Rôle de l'optimizer par rapport à la fonction de perte ?\n",
        "\n",
        "model.compile(\n",
        "    optimizer=opt,\n",
        "    loss=\"categorical_crossentropy\",\n",
        "    metrics=[\"acc\"]\n",
        ")"
      ],
      "execution_count": 25,
      "outputs": []
    },
    {
      "cell_type": "markdown",
      "metadata": {
        "id": "pwkFqDsBSg2Y"
      },
      "source": [
        "On entraîne le modèle"
      ]
    },
    {
      "cell_type": "code",
      "metadata": {
        "id": "PdORb0HQSg2Z",
        "colab": {
          "base_uri": "https://localhost:8080/"
        },
        "outputId": "bd4e64dc-9a07-4907-f767-bf27d99e0eee"
      },
      "source": [
        "\n",
        "hist = model.fit(x_train, y_train, epochs=num_epochs) "
      ],
      "execution_count": 26,
      "outputs": [
        {
          "output_type": "stream",
          "name": "stdout",
          "text": [
            "Epoch 1/15\n",
            "WARNING:tensorflow:Model was constructed with shape (100, 784) for input KerasTensor(type_spec=TensorSpec(shape=(100, 784), dtype=tf.float32, name='input_3'), name='input_3', description=\"created by layer 'input_3'\"), but it was called on an input with incompatible shape (32, 784).\n",
            "WARNING:tensorflow:Model was constructed with shape (100, 784) for input KerasTensor(type_spec=TensorSpec(shape=(100, 784), dtype=tf.float32, name='input_3'), name='input_3', description=\"created by layer 'input_3'\"), but it was called on an input with incompatible shape (32, 784).\n",
            "1875/1875 [==============================] - 6s 3ms/step - loss: 0.2012 - acc: 0.9405\n",
            "Epoch 2/15\n",
            "1875/1875 [==============================] - 6s 3ms/step - loss: 0.0824 - acc: 0.9746\n",
            "Epoch 3/15\n",
            "1875/1875 [==============================] - 6s 3ms/step - loss: 0.0580 - acc: 0.9818\n",
            "Epoch 4/15\n",
            "1875/1875 [==============================] - 6s 3ms/step - loss: 0.0444 - acc: 0.9857\n",
            "Epoch 5/15\n",
            "1875/1875 [==============================] - 6s 3ms/step - loss: 0.0336 - acc: 0.9895\n",
            "Epoch 6/15\n",
            "1875/1875 [==============================] - 6s 3ms/step - loss: 0.0292 - acc: 0.9908\n",
            "Epoch 7/15\n",
            "1875/1875 [==============================] - 5s 3ms/step - loss: 0.0244 - acc: 0.9919\n",
            "Epoch 8/15\n",
            "1875/1875 [==============================] - 5s 3ms/step - loss: 0.0192 - acc: 0.9938\n",
            "Epoch 9/15\n",
            "1875/1875 [==============================] - 5s 3ms/step - loss: 0.0201 - acc: 0.9932\n",
            "Epoch 10/15\n",
            "1875/1875 [==============================] - 5s 3ms/step - loss: 0.0166 - acc: 0.9945\n",
            "Epoch 11/15\n",
            "1875/1875 [==============================] - 5s 3ms/step - loss: 0.0162 - acc: 0.9948\n",
            "Epoch 12/15\n",
            "1875/1875 [==============================] - 6s 3ms/step - loss: 0.0138 - acc: 0.9955\n",
            "Epoch 13/15\n",
            "1875/1875 [==============================] - 5s 3ms/step - loss: 0.0163 - acc: 0.9949\n",
            "Epoch 14/15\n",
            "1875/1875 [==============================] - 5s 3ms/step - loss: 0.0125 - acc: 0.9962\n",
            "Epoch 15/15\n",
            "1875/1875 [==============================] - 6s 3ms/step - loss: 0.0120 - acc: 0.9961\n"
          ]
        }
      ]
    },
    {
      "cell_type": "code",
      "metadata": {
        "colab": {
          "base_uri": "https://localhost:8080/"
        },
        "id": "nYKDedw9Sg2Z",
        "outputId": "e85bd02d-c4db-4e49-f150-4c533c6141a7"
      },
      "source": [
        "print(\"Précision ={0:5.3f} \".format(hist.history.get('acc')[-1]))"
      ],
      "execution_count": 27,
      "outputs": [
        {
          "output_type": "stream",
          "name": "stdout",
          "text": [
            "Précision =0.996 \n"
          ]
        }
      ]
    },
    {
      "cell_type": "markdown",
      "metadata": {
        "id": "R-HXfyliSg2a"
      },
      "source": [
        "Puis on l'évalue sur l'ensemble de test "
      ]
    },
    {
      "cell_type": "code",
      "metadata": {
        "colab": {
          "base_uri": "https://localhost:8080/",
          "height": 1000
        },
        "id": "o4_UknDKSg2a",
        "outputId": "6c3df2b9-25ef-4bb0-f293-19bed9187838"
      },
      "source": [
        "score = model.evaluate(x_test,y_test)\n",
        "\n",
        "x = list(range(1,num_epochs+1))\n",
        "l = hist.history['loss']\n",
        "plt.subplots(1,1)\n",
        "plt.xlabel('epoch')\n",
        "plt.ylabel('Entropie croisée')\n",
        "plt.title(\"Test : Score = {0:5.3f}, Précision = {1:5.3f}\".format(score[0], score[1]))\n",
        "plt.plot(x,l)\n",
        "plt.show()\n",
        "plt.tight_layout()\n",
        "\n",
        "predicted_classes = np.argmax(model.predict(x_test), axis=-1)\n",
        "y = np.argmax(y_test,axis=1)\n",
        "\n",
        "incorrects = np.nonzero(predicted_classes != y)[0]\n",
        "plt.figure(figsize=(10,10))\n",
        "for i in range(0,9):\n",
        "    plt.subplot(3,3,i+1)\n",
        "    plt.imshow(x_test[incorrects[i]].reshape(28,28), cmap='gray', interpolation='none')\n",
        "    plt.title( \"Prédit/vrai : {}/{}\".format(predicted_classes[incorrects[i]], y[incorrects[i]]))\n",
        "    plt.xticks([])\n",
        "    plt.yticks([])\n",
        "plt.tight_layout()\n",
        "print(\"Nombre d'erreurs {}/{}\\n\\n\".format(incorrects.size,y.size))\n"
      ],
      "execution_count": 28,
      "outputs": [
        {
          "output_type": "stream",
          "name": "stdout",
          "text": [
            "313/313 [==============================] - 1s 2ms/step - loss: 0.0358 - acc: 0.3130\n"
          ]
        },
        {
          "output_type": "display_data",
          "data": {
            "image/png": "[encoded data removed]",
            "text/plain": [
              "<Figure size 432x288 with 1 Axes>"
            ]
          },
          "metadata": {
            "needs_background": "light"
          }
        },
        {
          "output_type": "stream",
          "name": "stdout",
          "text": [
            "Nombre d'erreurs 203/10000\n",
            "\n",
            "\n"
          ]
        },
        {
          "output_type": "display_data",
          "data": {
            "text/plain": [
              "<Figure size 432x288 with 0 Axes>"
            ]
          },
          "metadata": {}
        },
        {
          "output_type": "display_data",
          "data": {
            "image/png": "[encoded data removed]",
            "text/plain": [
              "<Figure size 720x720 with 9 Axes>"
            ]
          },
          "metadata": {}
        }
      ]
    }
  ]
}