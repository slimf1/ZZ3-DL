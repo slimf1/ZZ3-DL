{
  "nbformat": 4,
  "nbformat_minor": 0,
  "metadata": {
    "accelerator": "GPU",
    "anaconda-cloud": {},
    "colab": {
      "name": "02-PMC_2couches-etud.ipynb",
      "provenance": [],
      "collapsed_sections": [],
      "include_colab_link": true
    },
    "kernelspec": {
      "display_name": "Python 3.8.5 64-bit",
      "language": "python",
      "name": "python_defaultSpec_1596206907464"
    },
    "language_info": {
      "codemirror_mode": {
        "name": "ipython",
        "version": 3
      },
      "file_extension": ".py",
      "mimetype": "text/x-python",
      "name": "python",
      "nbconvert_exporter": "python",
      "pygments_lexer": "ipython3",
      "version": "3.8.5-final"
    }
  },
  "cells": [
    {
      "cell_type": "markdown",
      "metadata": {
        "id": "view-in-github",
        "colab_type": "text"
      },
      "source": [
        "<a href=\"https://colab.research.google.com/github/slimf1/ZZ3-DL/blob/main/02_PMC_2couches_etud.ipynb\" target=\"_parent\"><img src=\"https://colab.research.google.com/assets/colab-badge.svg\" alt=\"Open In Colab\"/></a>"
      ]
    },
    {
      "cell_type": "markdown",
      "metadata": {
        "id": "FRrEHdz-Sg2J"
      },
      "source": [
        "# Perceptron multicouches et Keras\n",
        "\n",
        "Définition d'un perceptron multicouches à deux couches cachées pour la classification de données MNIST\n"
      ]
    },
    {
      "cell_type": "markdown",
      "metadata": {
        "id": "bnyEIdlLSg2O"
      },
      "source": [
        "## MNIST \n",
        "\n",
        "La base de données MNIST (Mixed National Institute of Standards and Technology), est une base de données de chiffres manuscrits. C’est une base de données standard pour le test de nouveaux algorithmes de reconnaissance de ces chiffres. Elle est composée de 60000 images d’apprentissage et 10000 images de test. Les images en noir et blanc, normalisées centrées de 28 pixels de côté.\n",
        "\n",
        "![mnist.png](./mnist.png)\n",
        "\n",
        "\n"
      ]
    },
    {
      "cell_type": "markdown",
      "metadata": {
        "id": "sf7yFJVgSg2Q"
      },
      "source": [
        "# Import"
      ]
    },
    {
      "cell_type": "code",
      "metadata": {
        "id": "3KEROE5WSg2Q",
        "colab": {
          "base_uri": "https://localhost:8080/",
          "height": 52
        },
        "outputId": "624d69a1-afaa-4dba-a571-4b460dbfa0c0"
      },
      "source": [
        "import numpy as np\n",
        "import matplotlib.pyplot as plt\n",
        "import tensorflow.keras as tk\n",
        "from tensorflow.keras import Sequential\n",
        "\n",
        "\n",
        "from tensorflow.keras.layers import Input, Dense, Activation, Lambda\n",
        "from tensorflow.keras.models import Model\n",
        "\n",
        "from tensorflow.keras.optimizers import Adam\n",
        "\n",
        "\"\"\"If you have two or more classes and  the labels are integers, the SparseCategoricalCrossentropy should be used. \n",
        "https://neptune.ai/blog/keras-loss-functions \"\"\""
      ],
      "execution_count": 1,
      "outputs": [
        {
          "output_type": "execute_result",
          "data": {
            "application/vnd.google.colaboratory.intrinsic+json": {
              "type": "string"
            },
            "text/plain": [
              "'If you have two or more classes and  the labels are integers, the SparseCategoricalCrossentropy should be used. \\nhttps://neptune.ai/blog/keras-loss-functions '"
            ]
          },
          "metadata": {},
          "execution_count": 1
        }
      ]
    },
    {
      "cell_type": "markdown",
      "metadata": {
        "id": "LKYSiEF7Sg2S"
      },
      "source": [
        "# Données"
      ]
    },
    {
      "cell_type": "markdown",
      "metadata": {
        "id": "znVhOnHkSg2S"
      },
      "source": [
        "On charge ensuite les données MNIST. Les paramètres de la base sont récupérés (nombre d'exemples, de classes, taille de la rétine)."
      ]
    },
    {
      "cell_type": "code",
      "metadata": {
        "colab": {
          "base_uri": "https://localhost:8080/"
        },
        "id": "5pVV4QOkSg2T",
        "outputId": "0bcab1b6-df44-42af-bfbd-d1e94246bc9d"
      },
      "source": [
        "(x_train, y_train), (x_test, y_test) =tk.datasets.mnist.load_data()\n",
        "\n",
        "num_examples = x_train.shape[0] \n",
        "num_test = x_test.shape[0]\n",
        "num_input = x_train.shape[1]*x_train.shape[2]\n",
        "num_classes = 10\n",
        "\n",
        "img_size = x_train.shape[1] \n",
        "img_shape = (img_size, img_size)\n",
        "\n",
        "x_train = x_train.reshape((num_examples, num_input))/255\n",
        "x_test  = x_test.reshape((num_test, num_input))/255\n",
        "\n",
        "# normalisation\n",
        "\n",
        "\n",
        "\n",
        "print('Taille de la rétine : ',num_input)\n",
        "print(\"Nombre d'exemples : \",num_examples)\n",
        "\n",
        "y_train = tk.utils.to_categorical(y_train, num_classes)\n",
        "y_test = tk.utils.to_categorical(y_test, num_classes)\n",
        "\n",
        "print(x_train.shape)\n"
      ],
      "execution_count": 2,
      "outputs": [
        {
          "output_type": "stream",
          "name": "stdout",
          "text": [
            "Downloading data from https://storage.googleapis.com/tensorflow/tf-keras-datasets/mnist.npz\n",
            "11493376/11490434 [==============================] - 0s 0us/step\n",
            "11501568/11490434 [==============================] - 0s 0us/step\n",
            "Taille de la rétine :  784\n",
            "Nombre d'exemples :  60000\n",
            "(60000, 784)\n"
          ]
        }
      ]
    },
    {
      "cell_type": "markdown",
      "metadata": {
        "id": "tsT_lQTISg2V"
      },
      "source": [
        "# Réseau"
      ]
    },
    {
      "cell_type": "markdown",
      "metadata": {
        "id": "pW7EMyamSg2V"
      },
      "source": [
        "## Paramètres du réseau"
      ]
    },
    {
      "cell_type": "markdown",
      "metadata": {
        "id": "-WejqfiwSg2W"
      },
      "source": [
        "Dans un premier temps, on définit les paramètres du réseau : \n",
        "- 256 neurones cachés dans chaque couche cachée, \n",
        "- un apprentissage par batchs de taille 100\n",
        "- 15 itérations pour l'apprentissage\n"
      ]
    },
    {
      "cell_type": "code",
      "metadata": {
        "id": "gB8r27bjSg2W"
      },
      "source": [
        "\n",
        "lr = 0.001\n",
        "num_epochs = 20 # 15\n",
        "batch_size = 100\n",
        "\n",
        "# Nombre de neurones sur les deux couches cachées\n",
        "num_hidden_1 = 256 \n",
        "num_hidden_2 = 256 "
      ],
      "execution_count": 4,
      "outputs": []
    },
    {
      "cell_type": "markdown",
      "metadata": {
        "id": "iLhqBTaTSg2X"
      },
      "source": [
        "## Définition du réseau"
      ]
    },
    {
      "cell_type": "markdown",
      "metadata": {
        "id": "4QNAI2D_Sg2X"
      },
      "source": [
        "On construit alors le modèle :\n",
        "- le réseau\n",
        "- la fonction de coût à optimiser : dans le cas d'un problème de classification, la fonction d'entropie croisée calculée entre la sortie théorique et la sortie calculée par le modèle est adéquate\n",
        "- la méthode d'optimisation utilisée (descente de gradient) : ici, l'algorithme [ADAM](https://arxiv.org/abs/1412.6980) est utilisé"
      ]
    },
    {
      "cell_type": "code",
      "metadata": {
        "colab": {
          "base_uri": "https://localhost:8080/"
        },
        "id": "Omn1FO6cSg2Y",
        "outputId": "7c74a7ab-e9b0-4dda-f6a3-473911c08603"
      },
      "source": [
        "\n",
        "# Modèle #1 => bons résultats (99% acc) | categorical_crossentropy\n",
        "# model = Sequential()\n",
        "# model.add(Dense(784, input_dim=784, activation=\"relu\"))\n",
        "# model.add(Dense(10, activation='softmax'))\n",
        "\n",
        "# Modèle #2\n",
        "model = Sequential()\n",
        "model.add(Input(shape=(784, )))\n",
        "model.add(Dense(num_hidden_1, activation='relu'))\n",
        "model.add(Dense(num_hidden_2, activation='relu'))\n",
        "model.add(Dense(10, activation='softmax'))\n",
        "\n",
        "model.summary()"
      ],
      "execution_count": 5,
      "outputs": [
        {
          "output_type": "stream",
          "name": "stdout",
          "text": [
            "Model: \"sequential\"\n",
            "_________________________________________________________________\n",
            "Layer (type)                 Output Shape              Param #   \n",
            "=================================================================\n",
            "dense (Dense)                (None, 256)               200960    \n",
            "_________________________________________________________________\n",
            "dense_1 (Dense)              (None, 256)               65792     \n",
            "_________________________________________________________________\n",
            "dense_2 (Dense)              (None, 10)                2570      \n",
            "=================================================================\n",
            "Total params: 269,322\n",
            "Trainable params: 269,322\n",
            "Non-trainable params: 0\n",
            "_________________________________________________________________\n"
          ]
        }
      ]
    },
    {
      "cell_type": "code",
      "metadata": {
        "id": "YiJEPA2ASg2Y"
      },
      "source": [
        "opt = Adam(learning_rate=lr) # Rôle de l'optimizer par rapport à la fonction de perte ?\n",
        "\n",
        "model.compile(\n",
        "    optimizer=opt,\n",
        "    loss=\"categorical_crossentropy\",\n",
        "    metrics=[\"acc\"]\n",
        ")"
      ],
      "execution_count": 6,
      "outputs": []
    },
    {
      "cell_type": "markdown",
      "metadata": {
        "id": "pwkFqDsBSg2Y"
      },
      "source": [
        "On entraîne le modèle"
      ]
    },
    {
      "cell_type": "code",
      "metadata": {
        "id": "PdORb0HQSg2Z",
        "colab": {
          "base_uri": "https://localhost:8080/"
        },
        "outputId": "7ab7a41f-b269-46ab-a47e-3bd74d26da07"
      },
      "source": [
        "hist = model.fit(x_train, y_train, epochs=num_epochs, batch_size=batch_size) "
      ],
      "execution_count": 8,
      "outputs": [
        {
          "output_type": "stream",
          "name": "stdout",
          "text": [
            "Epoch 1/20\n",
            "600/600 [==============================] - 2s 4ms/step - loss: 0.0998 - acc: 0.9700\n",
            "Epoch 2/20\n",
            "600/600 [==============================] - 2s 4ms/step - loss: 0.0662 - acc: 0.9796\n",
            "Epoch 3/20\n",
            "600/600 [==============================] - 2s 4ms/step - loss: 0.0475 - acc: 0.9855\n",
            "Epoch 4/20\n",
            "600/600 [==============================] - 2s 4ms/step - loss: 0.0370 - acc: 0.9881\n",
            "Epoch 5/20\n",
            "600/600 [==============================] - 2s 4ms/step - loss: 0.0285 - acc: 0.9905\n",
            "Epoch 6/20\n",
            "600/600 [==============================] - 2s 4ms/step - loss: 0.0235 - acc: 0.9922\n",
            "Epoch 7/20\n",
            "600/600 [==============================] - 2s 4ms/step - loss: 0.0201 - acc: 0.9936\n",
            "Epoch 8/20\n",
            "600/600 [==============================] - 2s 4ms/step - loss: 0.0184 - acc: 0.9941\n",
            "Epoch 9/20\n",
            "600/600 [==============================] - 2s 4ms/step - loss: 0.0134 - acc: 0.9955\n",
            "Epoch 10/20\n",
            "600/600 [==============================] - 2s 4ms/step - loss: 0.0121 - acc: 0.9961\n",
            "Epoch 11/20\n",
            "600/600 [==============================] - 2s 4ms/step - loss: 0.0137 - acc: 0.9956\n",
            "Epoch 12/20\n",
            "600/600 [==============================] - 2s 4ms/step - loss: 0.0139 - acc: 0.9953\n",
            "Epoch 13/20\n",
            "600/600 [==============================] - 2s 4ms/step - loss: 0.0074 - acc: 0.9974\n",
            "Epoch 14/20\n",
            "600/600 [==============================] - 2s 4ms/step - loss: 0.0091 - acc: 0.9967\n",
            "Epoch 15/20\n",
            "600/600 [==============================] - 2s 4ms/step - loss: 0.0102 - acc: 0.9968\n",
            "Epoch 16/20\n",
            "600/600 [==============================] - 2s 4ms/step - loss: 0.0089 - acc: 0.9969\n",
            "Epoch 17/20\n",
            "600/600 [==============================] - 2s 4ms/step - loss: 0.0081 - acc: 0.9975\n",
            "Epoch 18/20\n",
            "600/600 [==============================] - 2s 4ms/step - loss: 0.0045 - acc: 0.9987\n",
            "Epoch 19/20\n",
            "600/600 [==============================] - 2s 4ms/step - loss: 0.0082 - acc: 0.9974\n",
            "Epoch 20/20\n",
            "600/600 [==============================] - 2s 4ms/step - loss: 0.0103 - acc: 0.9967\n"
          ]
        }
      ]
    },
    {
      "cell_type": "code",
      "metadata": {
        "colab": {
          "base_uri": "https://localhost:8080/"
        },
        "id": "nYKDedw9Sg2Z",
        "outputId": "ea18fd64-15a7-4362-f1d1-81b214b9880a"
      },
      "source": [
        "print(\"Précision ={0:5.3f} \".format(hist.history.get('acc')[-1]))"
      ],
      "execution_count": 9,
      "outputs": [
        {
          "output_type": "stream",
          "name": "stdout",
          "text": [
            "Précision =0.997 \n"
          ]
        }
      ]
    },
    {
      "cell_type": "code",
      "metadata": {
        "colab": {
          "base_uri": "https://localhost:8080/"
        },
        "id": "R9A3h-UGLyqT",
        "outputId": "630312e3-224c-4372-949e-4c64c89b3cb8"
      },
      "source": [
        "model.save(\"model\")"
      ],
      "execution_count": 11,
      "outputs": [
        {
          "output_type": "stream",
          "name": "stdout",
          "text": [
            "INFO:tensorflow:Assets written to: model/assets\n"
          ]
        }
      ]
    },
    {
      "cell_type": "markdown",
      "metadata": {
        "id": "R-HXfyliSg2a"
      },
      "source": [
        "Puis on l'évalue sur l'ensemble de test "
      ]
    },
    {
      "cell_type": "code",
      "metadata": {
        "colab": {
          "base_uri": "https://localhost:8080/",
          "height": 1000
        },
        "id": "o4_UknDKSg2a",
        "outputId": "2478c542-a318-41a3-c9ad-76da2c13b701"
      },
      "source": [
        "score = model.evaluate(x_test,y_test)\n",
        "\n",
        "x = list(range(1,num_epochs+1))\n",
        "l = hist.history['loss']\n",
        "plt.subplots(1,1)\n",
        "plt.xlabel('epoch')\n",
        "plt.ylabel('Entropie croisée')\n",
        "plt.title(\"Test : Score = {0:5.3f}, Précision = {1:5.3f}\".format(score[0], score[1]))\n",
        "plt.plot(x,l)\n",
        "plt.show()\n",
        "plt.tight_layout()\n",
        "\n",
        "predicted_classes = np.argmax(model.predict(x_test), axis=-1)\n",
        "y = np.argmax(y_test,axis=1)\n",
        "\n",
        "incorrects = np.nonzero(predicted_classes != y)[0]\n",
        "plt.figure(figsize=(10,10))\n",
        "for i in range(0,9):\n",
        "    plt.subplot(3,3,i+1)\n",
        "    plt.imshow(x_test[incorrects[i]].reshape(28,28), cmap='gray', interpolation='none')\n",
        "    plt.title( \"Prédit/vrai : {}/{}\".format(predicted_classes[incorrects[i]], y[incorrects[i]]))\n",
        "    plt.xticks([])\n",
        "    plt.yticks([])\n",
        "plt.tight_layout()\n",
        "print(\"Nombre d'erreurs {}/{}\\n\\n\".format(incorrects.size,y.size))\n"
      ],
      "execution_count": 12,
      "outputs": [
        {
          "output_type": "stream",
          "name": "stdout",
          "text": [
            "313/313 [==============================] - 1s 3ms/step - loss: 0.0958 - acc: 0.9821\n"
          ]
        },
        {
          "output_type": "display_data",
          "data": {
            "image/png": "[encoded data removed]",
            "text/plain": [
              "<Figure size 432x288 with 1 Axes>"
            ]
          },
          "metadata": {
            "needs_background": "light"
          }
        },
        {
          "output_type": "stream",
          "name": "stdout",
          "text": [
            "Nombre d'erreurs 179/10000\n",
            "\n",
            "\n"
          ]
        },
        {
          "output_type": "display_data",
          "data": {
            "text/plain": [
              "<Figure size 432x288 with 0 Axes>"
            ]
          },
          "metadata": {}
        },
        {
          "output_type": "display_data",
          "data": {
            "image/png": "[encoded data removed]",
            "text/plain": [
              "<Figure size 720x720 with 9 Axes>"
            ]
          },
          "metadata": {}
        }
      ]
    }
  ]
}