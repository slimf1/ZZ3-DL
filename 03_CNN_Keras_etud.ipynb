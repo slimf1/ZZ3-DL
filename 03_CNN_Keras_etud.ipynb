{
  "nbformat": 4,
  "nbformat_minor": 0,
  "metadata": {
    "kernelspec": {
      "display_name": "Python 3.8.5 64-bit",
      "language": "python",
      "name": "python_defaultSpec_1596207608974"
    },
    "language_info": {
      "codemirror_mode": {
        "name": "ipython",
        "version": 3
      },
      "file_extension": ".py",
      "mimetype": "text/x-python",
      "name": "python",
      "nbconvert_exporter": "python",
      "pygments_lexer": "ipython3",
      "version": "3.8.5-final"
    },
    "colab": {
      "name": "03-CNN-Keras-etud.ipynb",
      "provenance": [],
      "collapsed_sections": [],
      "include_colab_link": true
    },
    "accelerator": "GPU"
  },
  "cells": [
    {
      "cell_type": "markdown",
      "metadata": {
        "id": "view-in-github",
        "colab_type": "text"
      },
      "source": [
        "<a href=\"https://colab.research.google.com/github/slimf1/ZZ3-DL/blob/main/03_CNN_Keras_etud.ipynb\" target=\"_parent\"><img src=\"https://colab.research.google.com/assets/colab-badge.svg\" alt=\"Open In Colab\"/></a>"
      ]
    },
    {
      "cell_type": "markdown",
      "metadata": {
        "id": "JTodF1V1peDU"
      },
      "source": [
        "# Réseau convolutif\n",
        "\n",
        "Objectif : construction d'un réseau convolutif simple avec Keras. \n",
        "De nombreuses possibilités d'amélioration :\n",
        "- optimisation du nombre de couches / noyaux / activations\n",
        "- architecture\n",
        "- régularisation\n",
        "- ..."
      ]
    },
    {
      "cell_type": "markdown",
      "metadata": {
        "id": "KTq9C5n4peDd"
      },
      "source": [
        "# Imports"
      ]
    },
    {
      "cell_type": "code",
      "metadata": {
        "id": "v5yC9GgJpeDe"
      },
      "source": [
        "import numpy as np\n",
        "import matplotlib.pyplot as plt\n",
        "\n",
        "import tensorflow.keras as tk\n",
        "from tensorflow.keras.datasets import mnist\n",
        "\n",
        "from tensorflow.keras.layers import Input, Dense, Activation,Lambda,Flatten,Dropout\n",
        "from tensorflow.keras.layers import Conv2D\n",
        "from tensorflow.keras.layers import MaxPooling2D\n",
        "from tensorflow.keras.models import Sequential\n",
        "\n",
        "from tensorflow.keras.optimizers import Adam\n"
      ],
      "execution_count": 1,
      "outputs": []
    },
    {
      "cell_type": "markdown",
      "metadata": {
        "id": "yvDVhIIhpeDi"
      },
      "source": [
        "# Données"
      ]
    },
    {
      "cell_type": "markdown",
      "metadata": {
        "id": "xXGbf5R6peDj"
      },
      "source": [
        "On charge ensuite les données MNIST. Les paramètres de la base sont récupérés (nombre d'exemples, de classes, taille de la rétine)."
      ]
    },
    {
      "cell_type": "code",
      "metadata": {
        "tags": [],
        "colab": {
          "base_uri": "https://localhost:8080/"
        },
        "id": "OLNdcRhtpeDk",
        "outputId": "0e325c06-e816-4bf0-bbe0-b38f43127bb4"
      },
      "source": [
        "(x_train, y_train), (x_test, y_test) = mnist.load_data()\n",
        "\n",
        "\n",
        "num_examples = x_train.shape[0] \n",
        "num_test = x_test.shape[0]\n",
        "num_input = x_train.shape[1]*x_train.shape[2]\n",
        "num_classes = 10\n",
        "\n",
        "img_size = x_train.shape[1] \n",
        "img_shape = (img_size, img_size)\n",
        "\n",
        "x_train = x_train.reshape(num_examples, img_size, img_size, 1)/255\n",
        "x_test = x_test.reshape(x_test.shape[0], img_size, img_size, 1)/255\n",
        "\n",
        "print('Taille de la rétine : ',num_input)\n",
        "print(\"Nombre d'exemples : \",num_examples)\n",
        "\n",
        "# Conversion en matrices binaires\n",
        "y_train = tk.utils.to_categorical(y_train, num_classes)\n",
        "y_test = tk.utils.to_categorical(y_test, num_classes)\n"
      ],
      "execution_count": 2,
      "outputs": [
        {
          "output_type": "stream",
          "name": "stdout",
          "text": [
            "Taille de la rétine :  784\n",
            "Nombre d'exemples :  60000\n"
          ]
        }
      ]
    },
    {
      "cell_type": "markdown",
      "metadata": {
        "id": "Ji5YyYGCpeDn"
      },
      "source": [
        "# Définition du réseau"
      ]
    },
    {
      "cell_type": "markdown",
      "metadata": {
        "id": "MnAFtMKMpeDp"
      },
      "source": [
        "## Paramètres"
      ]
    },
    {
      "cell_type": "code",
      "metadata": {
        "id": "X20vhRMWpeDr"
      },
      "source": [
        "lr = 0.001\n",
        "num_epochs = 25\n",
        "batch_size = 128\n",
        "dropout = 0.75 # ici probabilité de garder le neurone"
      ],
      "execution_count": 3,
      "outputs": []
    },
    {
      "cell_type": "markdown",
      "metadata": {
        "id": "3opDAZm3peDt"
      },
      "source": [
        "## Types de couches"
      ]
    },
    {
      "cell_type": "markdown",
      "metadata": {
        "id": "bYjMhtRnpeDu"
      },
      "source": [
        "## Modèle du réseau construit \n",
        "CONV1-RELU-MAX POOLING - CONV2-RELU-MAX POOLING-FCL-Dropout-Prediction"
      ]
    },
    {
      "cell_type": "code",
      "metadata": {
        "tags": [],
        "id": "CFfH__h5peDv"
      },
      "source": [
        "#TODO\n",
        "model = Sequential()\n",
        "\n",
        "model.add(Conv2D(32, kernel_size=(3, 3), activation=\"relu\"))\n",
        "model.add(MaxPooling2D(pool_size=(2, 2)))\n",
        "model.add(Conv2D(64, kernel_size=(3, 3), activation=\"relu\"))\n",
        "model.add(MaxPooling2D(pool_size=(2, 2)))\n",
        "model.add(Flatten())\n",
        "model.add(Dense(1024))\n",
        "model.add(Dropout(dropout))\n",
        "model.add(Dense(num_classes, activation=\"softmax\"))\n",
        "\n",
        "# model.summary()"
      ],
      "execution_count": 4,
      "outputs": []
    },
    {
      "cell_type": "markdown",
      "metadata": {
        "id": "lE_uwvH8peDw"
      },
      "source": [
        "## Fonction de coût et optimisation"
      ]
    },
    {
      "cell_type": "code",
      "metadata": {
        "id": "qZloc8owpeDw"
      },
      "source": [
        "#TODO\n",
        "opt = Adam(learning_rate=lr)\n",
        "model.compile(loss=\"categorical_crossentropy\", optimizer=opt, metrics=[\"acc\"])\n"
      ],
      "execution_count": 5,
      "outputs": []
    },
    {
      "cell_type": "markdown",
      "metadata": {
        "id": "-vMOFMkzpeDx"
      },
      "source": [
        "# Entraînement du réseau"
      ]
    },
    {
      "cell_type": "code",
      "metadata": {
        "tags": [],
        "id": "QY1D4Q5zpeDy",
        "colab": {
          "base_uri": "https://localhost:8080/"
        },
        "outputId": "a4e35841-39b2-407c-905a-9a0cbc5f1067"
      },
      "source": [
        "hist = model.fit(x_train, y_train, batch_size=batch_size, epochs=num_epochs, validation_split=0.1)"
      ],
      "execution_count": 6,
      "outputs": [
        {
          "output_type": "stream",
          "name": "stdout",
          "text": [
            "Epoch 1/25\n",
            "422/422 [==============================] - 6s 11ms/step - loss: 0.1885 - acc: 0.9426 - val_loss: 0.0492 - val_acc: 0.9867\n",
            "Epoch 2/25\n",
            "422/422 [==============================] - 4s 10ms/step - loss: 0.0604 - acc: 0.9811 - val_loss: 0.0393 - val_acc: 0.9885\n",
            "Epoch 3/25\n",
            "422/422 [==============================] - 4s 10ms/step - loss: 0.0482 - acc: 0.9846 - val_loss: 0.0372 - val_acc: 0.9900\n",
            "Epoch 4/25\n",
            "422/422 [==============================] - 4s 10ms/step - loss: 0.0367 - acc: 0.9883 - val_loss: 0.0353 - val_acc: 0.9912\n",
            "Epoch 5/25\n",
            "422/422 [==============================] - 4s 10ms/step - loss: 0.0318 - acc: 0.9901 - val_loss: 0.0293 - val_acc: 0.9925\n",
            "Epoch 6/25\n",
            "422/422 [==============================] - 4s 9ms/step - loss: 0.0269 - acc: 0.9914 - val_loss: 0.0346 - val_acc: 0.9925\n",
            "Epoch 7/25\n",
            "422/422 [==============================] - 4s 9ms/step - loss: 0.0239 - acc: 0.9923 - val_loss: 0.0347 - val_acc: 0.9908\n",
            "Epoch 8/25\n",
            "422/422 [==============================] - 4s 10ms/step - loss: 0.0204 - acc: 0.9932 - val_loss: 0.0331 - val_acc: 0.9925\n",
            "Epoch 9/25\n",
            "422/422 [==============================] - 4s 9ms/step - loss: 0.0207 - acc: 0.9934 - val_loss: 0.0372 - val_acc: 0.9927\n",
            "Epoch 10/25\n",
            "422/422 [==============================] - 4s 10ms/step - loss: 0.0161 - acc: 0.9945 - val_loss: 0.0342 - val_acc: 0.9918\n",
            "Epoch 11/25\n",
            "422/422 [==============================] - 4s 10ms/step - loss: 0.0148 - acc: 0.9949 - val_loss: 0.0434 - val_acc: 0.9900\n",
            "Epoch 12/25\n",
            "422/422 [==============================] - 4s 10ms/step - loss: 0.0156 - acc: 0.9948 - val_loss: 0.0408 - val_acc: 0.9920\n",
            "Epoch 13/25\n",
            "422/422 [==============================] - 4s 9ms/step - loss: 0.0133 - acc: 0.9954 - val_loss: 0.0439 - val_acc: 0.9915\n",
            "Epoch 14/25\n",
            "422/422 [==============================] - 4s 10ms/step - loss: 0.0123 - acc: 0.9959 - val_loss: 0.0352 - val_acc: 0.9920\n",
            "Epoch 15/25\n",
            "422/422 [==============================] - 4s 9ms/step - loss: 0.0122 - acc: 0.9960 - val_loss: 0.0454 - val_acc: 0.9910\n",
            "Epoch 16/25\n",
            "422/422 [==============================] - 4s 10ms/step - loss: 0.0121 - acc: 0.9959 - val_loss: 0.0447 - val_acc: 0.9920\n",
            "Epoch 17/25\n",
            "422/422 [==============================] - 4s 10ms/step - loss: 0.0096 - acc: 0.9964 - val_loss: 0.0459 - val_acc: 0.9920\n",
            "Epoch 18/25\n",
            "422/422 [==============================] - 4s 10ms/step - loss: 0.0101 - acc: 0.9965 - val_loss: 0.0488 - val_acc: 0.9910\n",
            "Epoch 19/25\n",
            "422/422 [==============================] - 4s 9ms/step - loss: 0.0090 - acc: 0.9971 - val_loss: 0.0592 - val_acc: 0.9905\n",
            "Epoch 20/25\n",
            "422/422 [==============================] - 4s 9ms/step - loss: 0.0106 - acc: 0.9966 - val_loss: 0.0517 - val_acc: 0.9925\n",
            "Epoch 21/25\n",
            "422/422 [==============================] - 4s 10ms/step - loss: 0.0090 - acc: 0.9968 - val_loss: 0.0519 - val_acc: 0.9907\n",
            "Epoch 22/25\n",
            "422/422 [==============================] - 4s 9ms/step - loss: 0.0097 - acc: 0.9970 - val_loss: 0.0491 - val_acc: 0.9923\n",
            "Epoch 23/25\n",
            "422/422 [==============================] - 4s 10ms/step - loss: 0.0078 - acc: 0.9977 - val_loss: 0.0495 - val_acc: 0.9918\n",
            "Epoch 24/25\n",
            "422/422 [==============================] - 4s 10ms/step - loss: 0.0063 - acc: 0.9981 - val_loss: 0.0548 - val_acc: 0.9922\n",
            "Epoch 25/25\n",
            "422/422 [==============================] - 4s 10ms/step - loss: 0.0085 - acc: 0.9972 - val_loss: 0.0495 - val_acc: 0.9918\n"
          ]
        }
      ]
    },
    {
      "cell_type": "code",
      "metadata": {
        "id": "M0hSFG_epeDz",
        "colab": {
          "base_uri": "https://localhost:8080/",
          "height": 392
        },
        "outputId": "8a04e7b8-259e-427e-a3cf-353d976413f4"
      },
      "source": [
        "score = model.evaluate(x_test, y_test, verbose=0)\n",
        "plt.figure(figsize=(15,8))\n",
        "plt.subplot(1,2,1)\n",
        "plt.plot(hist.history['acc'])\n",
        "plt.plot(hist.history['val_acc'])\n",
        "plt.title('Précision')\n",
        "plt.ylabel('Précision')\n",
        "plt.xlabel('epoch')\n",
        "plt.legend(['train', 'validation'], loc='best')\n",
        "\n",
        "plt.subplot(1,2,2)\n",
        "x = list(range(1,num_epochs+1))\n",
        "l = hist.history['loss']\n",
        "plt.xlabel('epoch')\n",
        "plt.ylabel('Entropie croisée')\n",
        "plt.title(\"Test : Score = {0:5.3f}, Précision = {1:5.3f}\".format(score[0], score[1]))\n",
        "plt.plot(x,l)\n",
        "plt.show()\n",
        "plt.tight_layout()"
      ],
      "execution_count": 7,
      "outputs": [
        {
          "output_type": "display_data",
          "data": {
            "image/png": "[encoded data removed]",
            "text/plain": [
              "<Figure size 1080x576 with 2 Axes>"
            ]
          },
          "metadata": {
            "needs_background": "light"
          }
        },
        {
          "output_type": "display_data",
          "data": {
            "text/plain": [
              "<Figure size 432x288 with 0 Axes>"
            ]
          },
          "metadata": {}
        }
      ]
    },
    {
      "cell_type": "code",
      "metadata": {
        "tags": [],
        "id": "IfG10HffpeD0",
        "colab": {
          "base_uri": "https://localhost:8080/",
          "height": 730
        },
        "outputId": "d83c8e35-6b03-4870-d404-9c0e987e1a35"
      },
      "source": [
        "predicted_classes = np.argmax(model.predict(x_test), axis=-1)\n",
        "y = np.argmax(y_test,axis=1)\n",
        "\n",
        "incorrects = np.nonzero(predicted_classes != y)[0]\n",
        "plt.figure(figsize=(10,10))\n",
        "for i in range(0,9):\n",
        "    plt.subplot(3,3,i+1)\n",
        "    plt.imshow(x_test[incorrects[i]].reshape(28,28), cmap='gray', interpolation='none')\n",
        "    plt.title( \"Prédit/vrai : {}/{}\".format(predicted_classes[incorrects[i]], y[incorrects[i]]))\n",
        "    plt.xticks([])\n",
        "    plt.yticks([])\n",
        "plt.tight_layout()\n",
        "print(\"Nombre d'erreurs {}/{}\\n\\n\".format(incorrects.size,y.size))\n"
      ],
      "execution_count": 8,
      "outputs": [
        {
          "output_type": "stream",
          "name": "stdout",
          "text": [
            "Nombre d'erreurs 73/10000\n",
            "\n",
            "\n"
          ]
        },
        {
          "output_type": "display_data",
          "data": {
            "image/png": "[encoded data removed]",
            "text/plain": [
              "<Figure size 720x720 with 9 Axes>"
            ]
          },
          "metadata": {}
        }
      ]
    }
  ]
}