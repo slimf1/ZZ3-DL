{
  "nbformat": 4,
  "nbformat_minor": 0,
  "metadata": {
    "colab": {
      "name": "TP_Introduction.ipynb",
      "provenance": [],
      "collapsed_sections": [],
      "authorship_tag": "ABX9TyOoyHkWRVLpL29nmAD8fMri",
      "include_colab_link": true
    },
    "kernelspec": {
      "name": "python3",
      "display_name": "Python 3"
    },
    "language_info": {
      "name": "python"
    },
    "accelerator": "GPU"
  },
  "cells": [
    {
      "cell_type": "markdown",
      "metadata": {
        "id": "view-in-github",
        "colab_type": "text"
      },
      "source": [
        "<a href=\"https://colab.research.google.com/github/slimf1/ZZ3-DL/blob/main/TP_Introduction.ipynb\" target=\"_parent\"><img src=\"https://colab.research.google.com/assets/colab-badge.svg\" alt=\"Open In Colab\"/></a>"
      ]
    },
    {
      "cell_type": "code",
      "metadata": {
        "id": "drNjZ0dkVmUl"
      },
      "source": [
        "import numpy as np\n",
        "import tensorflow as tf"
      ],
      "execution_count": 1,
      "outputs": []
    },
    {
      "cell_type": "code",
      "metadata": {
        "id": "Srz8NpZHWtxD"
      },
      "source": [
        "import matplotlib.pyplot as plt\n",
        "import pandas as pd\n",
        "import sklearn as sk"
      ],
      "execution_count": 2,
      "outputs": []
    },
    {
      "cell_type": "code",
      "metadata": {
        "colab": {
          "base_uri": "https://localhost:8080/"
        },
        "id": "TJpTJM77XIMR",
        "outputId": "6dca5839-a406-49c4-a77f-da84e3a4457f"
      },
      "source": [
        "# Utilisation de TF version 1\n",
        "\n",
        "import tensorflow.compat.v1 as tf\n",
        "tf.disable_v2_behavior() "
      ],
      "execution_count": 3,
      "outputs": [
        {
          "output_type": "stream",
          "name": "stdout",
          "text": [
            "WARNING:tensorflow:From /usr/local/lib/python3.7/dist-packages/tensorflow/python/compat/v2_compat.py:101: disable_resource_variables (from tensorflow.python.ops.variable_scope) is deprecated and will be removed in a future version.\n",
            "Instructions for updating:\n",
            "non-resource variables are not supported in the long term\n"
          ]
        }
      ]
    },
    {
      "cell_type": "code",
      "metadata": {
        "id": "CCBkk-JzdR52"
      },
      "source": [
        "# Données (fonction XOR) \n",
        "X = [[0,0], [0, 1], [1, 0], [1, 1]]\n",
        "Y = [[0], [1] ,[1], [0]]"
      ],
      "execution_count": 14,
      "outputs": []
    },
    {
      "cell_type": "markdown",
      "metadata": {
        "id": "ONJHtaxpcJ6N"
      },
      "source": [
        "Création du modèle"
      ]
    },
    {
      "cell_type": "code",
      "metadata": {
        "colab": {
          "base_uri": "https://localhost:8080/"
        },
        "id": "gZUnNk7vW5bK",
        "outputId": "938eb19e-efcd-4bc0-eeff-bc5b7ee3f930"
      },
      "source": [
        "x_ = tf.placeholder(tf.float32, shape=[None ,2])\n",
        "y_ = tf.placeholder(tf.float32, shape=[None ,1])\n",
        "print(x_, y_)"
      ],
      "execution_count": 4,
      "outputs": [
        {
          "output_type": "stream",
          "name": "stdout",
          "text": [
            "Tensor(\"Placeholder:0\", shape=(?, 2), dtype=float32) Tensor(\"Placeholder_1:0\", shape=(?, 1), dtype=float32)\n"
          ]
        }
      ]
    },
    {
      "cell_type": "code",
      "metadata": {
        "id": "0_ihuJ2AXWnf"
      },
      "source": [
        "# Nombre de neurones cachés\n",
        "hidden_units = 3\n",
        "\n",
        "# Matrice des poids et des biais de la première couche\n",
        "b1 = tf.Variable(tf.zeros([hidden_units])) # Biais (init à 0)\n",
        "W1 = tf.Variable(tf.random_uniform([2, hidden_units], -1.0 , 1.0)) # Poids (init aléatoire)\n",
        "\n",
        "# init_op = tf.global_variables_initializer()\n",
        "\n",
        "# with tf.Session() as sess: # Spécifique à une session\n",
        "#   sess.run(init_op)\n",
        "#   print(sess.run(b1))\n",
        "#   print(sess.run(W1))"
      ],
      "execution_count": 5,
      "outputs": []
    },
    {
      "cell_type": "code",
      "metadata": {
        "id": "hvToir3gXWiC"
      },
      "source": [
        "# Activation non linéaire de la couche cachée\n",
        "# sigma(x^t * w + b)\n",
        "O = tf.nn.sigmoid(tf.matmul(x_, W1) + b1)"
      ],
      "execution_count": 6,
      "outputs": []
    },
    {
      "cell_type": "code",
      "metadata": {
        "id": "7eoK3HM8ZfMR"
      },
      "source": [
        "# Matrice des poids et biais de la seconde couche\n",
        "W2 = tf.Variable(tf.random_uniform([hidden_units, 1], -1.0, 1.0))\n",
        "b2 = tf.Variable(tf.zeros([1]))"
      ],
      "execution_count": 7,
      "outputs": []
    },
    {
      "cell_type": "code",
      "metadata": {
        "id": "qVAT7KtKbQMt"
      },
      "source": [
        "# Sortie du réseau\n",
        "# matmul = produit tensoriel\n",
        "y = tf.nn.sigmoid(tf.matmul(O, W2) + b2)\n"
      ],
      "execution_count": 8,
      "outputs": []
    },
    {
      "cell_type": "code",
      "metadata": {
        "id": "DXoIBKlEbQFC"
      },
      "source": [
        "# Fonction de perte quadratique\n",
        "cost = tf.reduce_sum(tf.square(y_ - y), reduction_indices=[0])\n",
        "# Optimisation par descente de gradient avec un learning rate de 0.1\n",
        "train_step = tf.train.GradientDescentOptimizer(0.1).minimize(cost)"
      ],
      "execution_count": 9,
      "outputs": []
    },
    {
      "cell_type": "code",
      "metadata": {
        "id": "-wZL2l8VcA03"
      },
      "source": [
        "# Initialisation des variables\n",
        "init = tf.global_variables_initializer()\n",
        "# Creation d’une session TF pour executer le programme\n",
        "with tf.Session() as sess:\n",
        "  sess.run(init)"
      ],
      "execution_count": 11,
      "outputs": []
    },
    {
      "cell_type": "markdown",
      "metadata": {
        "id": "UiZBXbSycHFA"
      },
      "source": [
        "Entrainement & évaluation\n"
      ]
    },
    {
      "cell_type": "code",
      "metadata": {
        "colab": {
          "base_uri": "https://localhost:8080/",
          "height": 1000
        },
        "id": "8LwjBROHcG3R",
        "outputId": "7ce57088-32ca-4e44-fc84-d31bb8dd45a6"
      },
      "source": [
        "num_iter = 5000\n",
        "\n",
        "correct_prediction = abs(y_ - y) < 0.5\n",
        "cast = tf.cast(correct_prediction, \"float\")\n",
        "precision = tf.reduce_mean(cast)\n",
        "\n",
        "# Creation d’une session TF pour executer le programme\n",
        "with tf.Session() as sess:\n",
        "  sess.run(init)\n",
        "  # Nombre d'itérations\n",
        "  for i in range(num_iter):\n",
        "    sess.run(train_step, feed_dict={x_: X, y_: Y})\n",
        "    if i % 100 == 0:\n",
        "      loss, acc = sess.run([cost, precision], feed_dict={x_: X, y_: Y})\n",
        "      print(f\"Itération: {i}, Cout = {loss}, Precision = {acc:.5f}\")\n",
        "\n",
        "  # VISUALISATION DES RESULTATS\n",
        "  plt.figure()\n",
        "  c1 = plt.scatter([1 ,0], [0 ,1] , marker=\"s\", color=\"red\", s=100)\n",
        "  c0 = plt.scatter([1 ,0], [1 ,0] , marker=\"o\", color=\"gray\", s=100)\n",
        "  # Generation de points dans [-1,2]x[-1,2]\n",
        "  DATA_x = (np.random.rand(10**6 ,2)*3) - 1\n",
        "  DATA_y = sess.run(y, feed_dict={x_: DATA_x})\n",
        "  # Predictions\n",
        "  ind = np.where(np.logical_and (0.49 < DATA_y , DATA_y < 0.51))[0]\n",
        "  DATA_ind = DATA_x[ind]\n",
        "  # Surfaces de separation\n",
        "  ss = plt.scatter(DATA_ind[: ,0], DATA_ind[: ,1], marker=\"_\", color=\"blue\", s=2)\n",
        "  plt.legend((c1, c0, ss), (\"Classe 1\", \"Classe 0\", \"Surfaces de séparation\"), scatterpoints=1)\n",
        "  plt.xlabel(\"x1\")\n",
        "  plt.ylabel(\"x2\")\n",
        "  plt.axis([-1, 2, -1, 2])\n",
        "  plt.show()"
      ],
      "execution_count": 18,
      "outputs": [
        {
          "output_type": "stream",
          "name": "stdout",
          "text": [
            "Itération: 0, Cout = [1.0053581], Precision = 0.50000\n",
            "Itération: 100, Cout = [1.0011162], Precision = 0.50000\n",
            "Itération: 200, Cout = [1.0007645], Precision = 0.50000\n",
            "Itération: 300, Cout = [1.0005084], Precision = 0.50000\n",
            "Itération: 400, Cout = [1.0003097], Precision = 0.50000\n",
            "Itération: 500, Cout = [1.0001456], Precision = 0.50000\n",
            "Itération: 600, Cout = [1.0000005], Precision = 0.50000\n",
            "Itération: 700, Cout = [0.99986386], Precision = 0.50000\n",
            "Itération: 800, Cout = [0.9997266], Precision = 0.50000\n",
            "Itération: 900, Cout = [0.99958056], Precision = 0.50000\n",
            "Itération: 1000, Cout = [0.9994173], Precision = 0.50000\n",
            "Itération: 1100, Cout = [0.99922687], Precision = 0.50000\n",
            "Itération: 1200, Cout = [0.998996], Precision = 0.50000\n",
            "Itération: 1300, Cout = [0.9987072], Precision = 0.50000\n",
            "Itération: 1400, Cout = [0.9983341], Precision = 0.50000\n",
            "Itération: 1500, Cout = [0.9978385], Precision = 0.50000\n",
            "Itération: 1600, Cout = [0.9971594], Precision = 0.50000\n",
            "Itération: 1700, Cout = [0.99619913], Precision = 0.50000\n",
            "Itération: 1800, Cout = [0.9947955], Precision = 0.50000\n",
            "Itération: 1900, Cout = [0.9926675], Precision = 0.50000\n",
            "Itération: 2000, Cout = [0.98932004], Precision = 0.50000\n",
            "Itération: 2100, Cout = [0.98385996], Precision = 0.50000\n",
            "Itération: 2200, Cout = [0.97469157], Precision = 0.50000\n",
            "Itération: 2300, Cout = [0.95912087], Precision = 0.50000\n",
            "Itération: 2400, Cout = [0.93325883], Precision = 0.75000\n",
            "Itération: 2500, Cout = [0.89316344], Precision = 0.75000\n",
            "Itération: 2600, Cout = [0.83740604], Precision = 0.75000\n",
            "Itération: 2700, Cout = [0.76777184], Precision = 0.75000\n",
            "Itération: 2800, Cout = [0.6847114], Precision = 0.75000\n",
            "Itération: 2900, Cout = [0.5835606], Precision = 1.00000\n",
            "Itération: 3000, Cout = [0.4642745], Precision = 1.00000\n",
            "Itération: 3100, Cout = [0.34573328], Precision = 1.00000\n",
            "Itération: 3200, Cout = [0.25055555], Precision = 1.00000\n",
            "Itération: 3300, Cout = [0.18385345], Precision = 1.00000\n",
            "Itération: 3400, Cout = [0.13914463], Precision = 1.00000\n",
            "Itération: 3500, Cout = [0.10893866], Precision = 1.00000\n",
            "Itération: 3600, Cout = [0.08794495], Precision = 1.00000\n",
            "Itération: 3700, Cout = [0.07286452], Precision = 1.00000\n",
            "Itération: 3800, Cout = [0.06168468], Precision = 1.00000\n",
            "Itération: 3900, Cout = [0.0531595], Precision = 1.00000\n",
            "Itération: 4000, Cout = [0.04649699], Precision = 1.00000\n",
            "Itération: 4100, Cout = [0.0411783], Precision = 1.00000\n",
            "Itération: 4200, Cout = [0.03685386], Precision = 1.00000\n",
            "Itération: 4300, Cout = [0.03328128], Precision = 1.00000\n",
            "Itération: 4400, Cout = [0.03028867], Precision = 1.00000\n",
            "Itération: 4500, Cout = [0.02775126], Precision = 1.00000\n",
            "Itération: 4600, Cout = [0.02557654], Precision = 1.00000\n",
            "Itération: 4700, Cout = [0.02369491], Precision = 1.00000\n",
            "Itération: 4800, Cout = [0.02205299], Precision = 1.00000\n",
            "Itération: 4900, Cout = [0.0206094], Precision = 1.00000\n"
          ]
        },
        {
          "output_type": "display_data",
          "data": {
            "image/png": "[encoded data removed]",
            "text/plain": [
              "<Figure size 432x288 with 1 Axes>"
            ]
          },
          "metadata": {
            "needs_background": "light"
          }
        }
      ]
    }
  ]
}